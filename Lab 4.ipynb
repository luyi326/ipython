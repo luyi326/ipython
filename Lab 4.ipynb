{
 "metadata": {
  "name": ""
 },
 "nbformat": 3,
 "nbformat_minor": 0,
 "worksheets": [
  {
   "cells": [
    {
     "cell_type": "markdown",
     "metadata": {},
     "source": [
      "<h1>Lab 4: Working with files and on-line data sets</h1>\n",
      "<h2>Physics 102 - Fall 2014</h2>\n",
      "\n",
      "<h4>Learning Objectives:</h4>\n",
      "At the end of this lab, you will be able to:\n",
      "<ul>\n",
      "    <li>Prompt a user to input data.</li>\n",
      "    <li>Load data from a file.</li>\n",
      "    <li>Write data to file.</li>\n",
      "    <li>Import data from the Internet.</li>\n",
      "</ul> "
     ]
    },
    {
     "cell_type": "markdown",
     "metadata": {},
     "source": [
      "<h3>User Input</h3>"
     ]
    },
    {
     "cell_type": "markdown",
     "metadata": {},
     "source": [
      "Asking the user to input data from the command prompt is one of the most basic tasks in any programming language. Python makes it very easy."
     ]
    },
    {
     "cell_type": "code",
     "collapsed": false,
     "input": [
      "r = input('What is your favorite number?')\n",
      "\n",
      "print 'Your favorite number is {0}.'.format(r)"
     ],
     "language": "python",
     "metadata": {},
     "outputs": []
    },
    {
     "cell_type": "markdown",
     "metadata": {},
     "source": [
      "Because of dynamic typecasting, Python automatically tries to interpret the input as a number and it can be used as such."
     ]
    },
    {
     "cell_type": "code",
     "collapsed": false,
     "input": [
      "x = input('What is x?')\n",
      "\n",
      "print 'The square of {0} is {1}.'.format(x, x**2)"
     ],
     "language": "python",
     "metadata": {},
     "outputs": []
    },
    {
     "cell_type": "markdown",
     "metadata": {},
     "source": [
      "This can be a problem if you want the user to input a string. To get a string from the user, you need to use "
     ]
    },
    {
     "cell_type": "code",
     "collapsed": false,
     "input": [
      "color = raw_input('What is your favorite color?')\n",
      "\n",
      "print 'Your favorite color is {0}.'.format(color)"
     ],
     "language": "python",
     "metadata": {},
     "outputs": []
    },
    {
     "cell_type": "markdown",
     "metadata": {},
     "source": [
      "This is also the best way to pause a program if you need to for some reason."
     ]
    },
    {
     "cell_type": "code",
     "collapsed": false,
     "input": [
      "print \"How do you feel?\"\n",
      "\n",
      "raw_input('Press ENTER to continue')\n",
      "\n",
      "print \"I feel binary.\""
     ],
     "language": "python",
     "metadata": {},
     "outputs": []
    },
    {
     "cell_type": "markdown",
     "metadata": {},
     "source": [
      "When creating strings using numbers, you can specify the format for the number using \":\" colon options."
     ]
    },
    {
     "cell_type": "markdown",
     "metadata": {},
     "source": [
      "For integers, there are the following formats."
     ]
    },
    {
     "cell_type": "code",
     "collapsed": false,
     "input": [
      "print \"This number is in binary: {0:b}\".format(42)\n",
      "print \"This number is in unicode: {0:c}\".format(42)\n",
      "print \"This number is a decimal integer: {0:d}\".format(42) \n",
      "print \"This number is in octal (base 8): {0:o}\".format(42)\n",
      "print \"This number is in hexadecimal (base 16): {0:x}\".format(42)\n",
      "print \"This number has commas: {0:,}\".format(123456789)"
     ],
     "language": "python",
     "metadata": {},
     "outputs": []
    },
    {
     "cell_type": "markdown",
     "metadata": {},
     "source": [
      "For floats, there are the following formats."
     ]
    },
    {
     "cell_type": "code",
     "collapsed": false,
     "input": [
      "print \"This number is in exponential notation: {0:e}\".format(3.1415962)\n",
      "print \"This number is in exponential notation with three digits of precision: {0:0.3e}\".format(3.1415962)\n",
      "print \"This number is in fixed point notation: {0:f}\".format(3.1415962)\n",
      "print \"This number is in fixed point notation with two digits of precision: {0:0.2f}\".format(3.1415962)\n",
      "print \"This number is a percent: {0:%}\".format(3.1415962)"
     ],
     "language": "python",
     "metadata": {},
     "outputs": []
    },
    {
     "cell_type": "markdown",
     "metadata": {},
     "source": [
      "<h3>Loading Data from File</h3>"
     ]
    },
    {
     "cell_type": "markdown",
     "metadata": {},
     "source": [
      "We often store data in text files. This allows us to easily share data with others. The first thing we need to do is create a Python file object that can be used to interact with the file on the computer."
     ]
    },
    {
     "cell_type": "code",
     "collapsed": false,
     "input": [
      "file = open('metaphysics.txt')"
     ],
     "language": "python",
     "metadata": {},
     "outputs": []
    },
    {
     "cell_type": "markdown",
     "metadata": {},
     "source": [
      "The command <code>open</code> takes an optional second argument that tells Python what you would like to do with this file"
     ]
    },
    {
     "cell_type": "code",
     "collapsed": false,
     "input": [
      "file_1 = open('metaphysics.txt', 'r') # Read-only, writting is not allowed\n",
      "\n",
      "file_2 = open('output.txt', 'w') # Write-only, reading is not allowed\n",
      "\n",
      "file_2 = open('output.txt', 'r+') # Read and write\n",
      "\n",
      "file_2 = open('output.txt', 'a') # Append to the end of the file"
     ],
     "language": "python",
     "metadata": {},
     "outputs": []
    },
    {
     "cell_type": "markdown",
     "metadata": {},
     "source": [
      "When writing to file, the entire file is replaced by what you write. If you don't want to loose your data, you should probably use Read-only. If you need to add to the end of a file use Append."
     ]
    },
    {
     "cell_type": "markdown",
     "metadata": {},
     "source": [
      "Once we have an opened file we can access the data in several ways. The first method is to read the entire file into a string."
     ]
    },
    {
     "cell_type": "code",
     "collapsed": false,
     "input": [
      "file = open('metaphysics.txt', 'r')\n",
      "\n",
      "text = file.read()\n",
      "\n",
      "print text[:500] # Print the first 500 characters of text"
     ],
     "language": "python",
     "metadata": {},
     "outputs": []
    },
    {
     "cell_type": "markdown",
     "metadata": {},
     "source": [
      "We can also specify how many characters to read."
     ]
    },
    {
     "cell_type": "code",
     "collapsed": false,
     "input": [
      "file = open('metaphysics.txt', 'r')\n",
      "\n",
      "text = file.read(500)\n",
      "\n",
      "print text"
     ],
     "language": "python",
     "metadata": {},
     "outputs": []
    },
    {
     "cell_type": "markdown",
     "metadata": {},
     "source": [
      "Rather than reading the whole file in at once, we can read one line at a time. "
     ]
    },
    {
     "cell_type": "code",
     "collapsed": false,
     "input": [
      "file = open('metaphysics.txt', 'r')"
     ],
     "language": "python",
     "metadata": {},
     "outputs": []
    },
    {
     "cell_type": "code",
     "collapsed": false,
     "input": [
      "file.readline() # Try running this line multiple times. Notice how each time \n",
      "                # it shows a different line."
     ],
     "language": "python",
     "metadata": {},
     "outputs": []
    },
    {
     "cell_type": "markdown",
     "metadata": {},
     "source": [
      "Alternatively, we can create a list, where each element is a line from the text file."
     ]
    },
    {
     "cell_type": "code",
     "collapsed": false,
     "input": [
      "file = open('metaphysics.txt', 'r')\n",
      "\n",
      "lines = file.readlines()\n",
      "\n",
      "print lines[99] # Print the 100 line in the file"
     ],
     "language": "python",
     "metadata": {},
     "outputs": []
    },
    {
     "cell_type": "markdown",
     "metadata": {},
     "source": [
      "With both readline() and readlines(), Python will start with the current line in the file. If you read the first three lines of the file using readline() and then use readlines(), the first element in the list will be fourth line of the file. To get back to the top of the file, you need to reload the file."
     ]
    },
    {
     "cell_type": "markdown",
     "metadata": {},
     "source": [
      "Because we often want to loop over the lines of a file, Python makes this easy."
     ]
    },
    {
     "cell_type": "code",
     "collapsed": false,
     "input": [
      "file = open('people.txt', 'r')\n",
      "\n",
      "header = file.readline()\n",
      "\n",
      "print header\n",
      "\n",
      "for line in file:\n",
      "    if line[0] == 'L':\n",
      "        print line"
     ],
     "language": "python",
     "metadata": {},
     "outputs": []
    },
    {
     "cell_type": "markdown",
     "metadata": {},
     "source": [
      "If the file contains only numerical data, we can load it directly into a numpy array. This is a very powerful command with many options. Look at the <a href='http://docs.scipy.org/doc/numpy/reference/generated/numpy.loadtxt.html'>documentation</a> for details on the possible options"
     ]
    },
    {
     "cell_type": "code",
     "collapsed": false,
     "input": [
      "%matplotlib inline\n",
      "\n",
      "import numpy as np\n",
      "import matplotlib.pyplot as plt\n",
      "\n",
      "x, y = np.loadtxt('numerical.txt', unpack=True, skiprows=1)\n",
      "\n",
      "plt.plot(x, y, lw='0', marker='.')"
     ],
     "language": "python",
     "metadata": {},
     "outputs": []
    },
    {
     "cell_type": "markdown",
     "metadata": {},
     "source": [
      "<h3>Writting Data to File"
     ]
    },
    {
     "cell_type": "markdown",
     "metadata": {},
     "source": [
      "If we want to write our data to file we first need to open up a file that we can write to. If the file does not exist, Python will create it for you. If the file does exist, this will OVERWRITE the file (use 'a' for appending to the end of a file)."
     ]
    },
    {
     "cell_type": "code",
     "collapsed": false,
     "input": [
      "file = open('output.txt', 'w') # Write-only, reading is not allowed"
     ],
     "language": "python",
     "metadata": {},
     "outputs": []
    },
    {
     "cell_type": "markdown",
     "metadata": {},
     "source": [
      "Writting to file is just as easy as reading"
     ]
    },
    {
     "cell_type": "code",
     "collapsed": false,
     "input": [
      "file.write('Here is some output')"
     ],
     "language": "python",
     "metadata": {},
     "outputs": []
    },
    {
     "cell_type": "markdown",
     "metadata": {},
     "source": [
      "If you need to write multiple lines to file you can separate them with the appropriate line ending character"
     ]
    },
    {
     "cell_type": "code",
     "collapsed": false,
     "input": [
      "file.write('Line one \\n Line two') # Linux and Mac (\\n=newline)\n",
      "file.write('Line one \\r\\n Line two') # Windows (\\r = carriage return, \\n=newline)"
     ],
     "language": "python",
     "metadata": {},
     "outputs": []
    },
    {
     "cell_type": "markdown",
     "metadata": {},
     "source": [
      "If you use Windows, beware of the different line endings."
     ]
    },
    {
     "cell_type": "markdown",
     "metadata": {},
     "source": [
      "Numpy also provides a way to write numerical data to file for a complete list of options see the <a href='http://docs.scipy.org/doc/numpy/reference/generated/numpy.savetxt.html'> documentation </a>.\n",
      "\n"
     ]
    },
    {
     "cell_type": "code",
     "collapsed": false,
     "input": [
      "x = np.linspace(0, 3, 100)\n",
      "\n",
      "y = x**2\n",
      "\n",
      "np.savetxt('output.txt', (x,y), delimiter='\\t', header='Python generated numbers and squares')"
     ],
     "language": "python",
     "metadata": {},
     "outputs": []
    },
    {
     "cell_type": "markdown",
     "metadata": {},
     "source": [
      "<h3>Importing Data from the Internet</h3>"
     ]
    },
    {
     "cell_type": "markdown",
     "metadata": {},
     "source": [
      "As more and more data is becoming available on the internet, it is important to know how to import that data."
     ]
    },
    {
     "cell_type": "markdown",
     "metadata": {},
     "source": [
      "For this lab we will look at is stock data. The most complete set of historical stock data can be found at <a href='http://finance.yahoo.com/'>Yahoo Finance</a>. Rather than downloading the stock data manually to a text file and then importing the text file, we can import the data directly using a matplotlib module."
     ]
    },
    {
     "cell_type": "code",
     "collapsed": false,
     "input": [
      "import matplotlib as mpl\n",
      "\n",
      "sp = mpl.finance.quotes_historical_yahoo('^GSPC', (1950, 1, 1), (2014, 9, 30), asobject=True, adjusted=False)"
     ],
     "language": "python",
     "metadata": {},
     "outputs": []
    },
    {
     "cell_type": "markdown",
     "metadata": {},
     "source": [
      "This module loads daily stock data for the stock with ticker '^GSPC'. If you need to find the ticker for a stock, you can look it up in yahoo finance. Rather than pulling all the data, the module only pulls the data between two specified dates. Dates are entered in (year, month, day) format. In this case it is 1 January 1990 (1900, 1, 1) and 31 December 2013 (2013, 12, 31). The option asobject=True means that the data is stored in an numpy object that has named columns. This makes working with the data a little bit easier. Just use adjusted=True for the stock data. This takes account of things like dividends or stock splits. It doesn't really concern us too much."
     ]
    },
    {
     "cell_type": "markdown",
     "metadata": {},
     "source": [
      "This module returns an object with named data members making the data easier to work with. Using the \"dot\" syntax, we can get the different members."
     ]
    },
    {
     "cell_type": "markdown",
     "metadata": {},
     "source": [
      "We can get the dates as datetime objects which are great for working with dates. We can add and subtract dates and the datetime returns the sum or difference in a date format."
     ]
    },
    {
     "cell_type": "code",
     "collapsed": false,
     "input": [
      "print sp.date\n",
      "\n",
      "print sp.date[100] - sp.date[2]"
     ],
     "language": "python",
     "metadata": {},
     "outputs": []
    },
    {
     "cell_type": "markdown",
     "metadata": {},
     "source": [
      "Matplotlib can use datetime objects for plotting."
     ]
    },
    {
     "cell_type": "code",
     "collapsed": false,
     "input": [
      "import matplotlib.pyplot as plt\n",
      "\n",
      "plt.plot(sp.date, sp.close)"
     ],
     "language": "python",
     "metadata": {},
     "outputs": []
    },
    {
     "cell_type": "markdown",
     "metadata": {},
     "source": [
      "We can also get the year month and day for each data point."
     ]
    },
    {
     "cell_type": "code",
     "collapsed": false,
     "input": [
      "print sp.year\n",
      "\n",
      "print sp.month\n",
      "\n",
      "print sp.day"
     ],
     "language": "python",
     "metadata": {},
     "outputs": []
    },
    {
     "cell_type": "markdown",
     "metadata": {},
     "source": [
      "We can also get the data as a decimal date."
     ]
    },
    {
     "cell_type": "code",
     "collapsed": false,
     "input": [
      "print sp.d"
     ],
     "language": "python",
     "metadata": {},
     "outputs": []
    },
    {
     "cell_type": "markdown",
     "metadata": {},
     "source": [
      "We can get the opening price, closing price, the high for the day, the low for the day, and the volume traded during the day."
     ]
    },
    {
     "cell_type": "code",
     "collapsed": false,
     "input": [
      "print sp.open # Opening price\n",
      "\n",
      "print sp.close # Closing price\n",
      "\n",
      "print sp.high # Highest price during the day\n",
      "\n",
      "print sp.low # Lowest price turing the day\n",
      "\n",
      "print sp.volume # Total volume traded during the day"
     ],
     "language": "python",
     "metadata": {},
     "outputs": []
    },
    {
     "cell_type": "markdown",
     "metadata": {},
     "source": [
      "<h2>Exercises</h2>"
     ]
    },
    {
     "cell_type": "markdown",
     "metadata": {},
     "source": [
      "<h3>Exercise 1: Econophysics</h3>"
     ]
    },
    {
     "cell_type": "markdown",
     "metadata": {},
     "source": [
      "For this exercise you should write a function that takes no arguments. In the function, you should ask the user to input a stock ticker. You do not need to worry whether their ticker is valid; if they enter an invalid ticker, matplotlib will give them an error. You should then pull the stock data from Yahoo finance. Using the stock data, calculate the monthly (30 day) returns for the stock.\n",
      "The returns are defined as:\n",
      "\n",
      "$$\\frac{\\textrm{Sell price} - \\textrm{Buy price}}{\\textrm{Buy price}}$$\n",
      "\n",
      "After you have calculated the returns, your function should make a plot of the returns versus the date and save the plot to 'TICKER_monthly_returns.pdf' where TICKER is the ticker inputted by the user. The title of the plot should be the stock ticker and the axes should be labeled accordingly."
     ]
    },
    {
     "cell_type": "markdown",
     "metadata": {},
     "source": [
      "Here is an outline of what your function should do:\n",
      "- prompt the user to input a stock ticker\n",
      "- pull the stock data from Yahoo finance\n",
      "- calculate the monthly (30 day) returns for the stock\n",
      "- Make a plot of the monthly returns versus the data\n",
      "- Add a title and axes labels to the plot\n",
      "- Save the plot as 'TICKER_monthly_returns.pdf' where TICKER is the ticker of the stock"
     ]
    },
    {
     "cell_type": "markdown",
     "metadata": {},
     "source": [
      "<h3>Exercise 2: Cryptography</h3>"
     ]
    },
    {
     "cell_type": "markdown",
     "metadata": {},
     "source": [
      "A Caesar cipher is one of the simplest methods for encoding a series of words. You can read about it <a href='http://en.wikipedia.org/wiki/Caesar_cipher'> here </a>. The cipher involves replacing each letter in a series of words with another letter. You can decode the letter by reversing the replacement. This type of cipher is simple because once you know what one letter has been replaced with, you know what every other letter has been replaced with. The goal of this exercise is to write a program that loads an encoded text file. Using the fact that 'e' is the most common letter in the English language, you should determine what encoding has been used. Once you know the encoding, you should decode the series of words and write them back to file. The function should take the file name as an argument."
     ]
    },
    {
     "cell_type": "markdown",
     "metadata": {},
     "source": [
      "Here is an outline of what your function should do:\n",
      "- Load the encoded text from file.\n",
      "- Determine which letter is the most common.\n",
      "- Using that information, you should decode the text file.\n",
      "- Write the decoded text to a new file."
     ]
    },
    {
     "cell_type": "markdown",
     "metadata": {},
     "source": [
      "Hint:\n",
      "\n",
      "The encryption can also be represented using modular arithmetic by first transforming the letters into numbers, according to the scheme, A = 0, B = 1,..., Z = 25. Encryption of a letter x by a shift n can be described mathematically as,\n",
      "\n",
      "   $$ E_n(x) = (x + n) \\mod {26}.$$\n",
      "\n",
      "Decryption is performed similarly,\n",
      "\n",
      "$$ D_n(x) = (x - n) \\mod {26}. $$"
     ]
    },
    {
     "cell_type": "markdown",
     "metadata": {},
     "source": [
      "We can use this along with string indexing to perform encryption and decryption."
     ]
    },
    {
     "cell_type": "code",
     "collapsed": false,
     "input": [
      "alphabet = 'abcdefghijklmnopqrstuvwxyz'\n",
      "\n",
      "# using n=20\n",
      "\n",
      "# Encoding a-> u\n",
      "\n",
      "print alphabet[(0+20)%26]\n",
      "\n",
      "# Decoding u->a\n",
      "\n",
      "print alphabet[(20-20)%26]"
     ],
     "language": "python",
     "metadata": {},
     "outputs": []
    },
    {
     "cell_type": "markdown",
     "metadata": {},
     "source": [
      "We can get the index of a letter using"
     ]
    },
    {
     "cell_type": "code",
     "collapsed": false,
     "input": [
      "alphabet.index('u')"
     ],
     "language": "python",
     "metadata": {},
     "outputs": []
    },
    {
     "cell_type": "markdown",
     "metadata": {},
     "source": [
      "Remember to replace capital letters too."
     ]
    },
    {
     "cell_type": "code",
     "collapsed": false,
     "input": [
      "Alphabet = 'ABCDEFGHIJKLMNOPQRSTUVWXYZ'"
     ],
     "language": "python",
     "metadata": {},
     "outputs": []
    }
   ],
   "metadata": {}
  }
 ]
}