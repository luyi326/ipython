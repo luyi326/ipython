{
 "metadata": {
  "name": "",
  "signature": "sha256:d9f6c7494520efa97f8d308f99e2e0bd4131ace9c7b3c2b514903b9f4f13c3f1"
 },
 "nbformat": 3,
 "nbformat_minor": 0,
 "worksheets": [
  {
   "cells": [
    {
     "cell_type": "markdown",
     "metadata": {},
     "source": [
      "<h1>Lab 2: Libraries and Functions</h1>\n",
      "<h2>Physics 102 - Fall 2014</h2>\n",
      "\n",
      "<h4>Learning Objectives:</h4>\n",
      "At the end of this lab, you will be able to:\n",
      "<ul>\n",
      "    <li>Import and use previously written libraries.</li>\n",
      "    <li>Use the NumPy library to create and manipulate arrays of numbers.</li>\n",
      "    <li>Perform calculations using NumPy arrays.</li>\n",
      "    <li>Write new Python functions.</li>\n",
      "    <li>Write and import your own libraries.</li>\n",
      "</ul> "
     ]
    },
    {
     "cell_type": "markdown",
     "metadata": {},
     "source": [
      "<h3>Importing Libraries</h3>"
     ]
    },
    {
     "cell_type": "markdown",
     "metadata": {},
     "source": [
      "\"If I have seen further it is by standing on the shoulders of giants.\" Isaac Newton"
     ]
    },
    {
     "cell_type": "markdown",
     "metadata": {},
     "source": [
      "Rather than spending a lot of time witting our your own code to do common tasks, you can use code that others have already written. Your can \"stand on their shoulders.\" There are typically two ways to do this."
     ]
    },
    {
     "cell_type": "markdown",
     "metadata": {},
     "source": [
      "1. Look up the code you need on the internet and copy and paste it into your program.\n",
      "2. Import a library."
     ]
    },
    {
     "cell_type": "markdown",
     "metadata": {},
     "source": [
      "There are several problems with 1. which are pretty much all the reasons why you should just use 2."
     ]
    },
    {
     "cell_type": "markdown",
     "metadata": {},
     "source": [
      "Reasons for Using A Library:\n",
      "1. Libraries are quick and easy to use. Python makes using libraries very easy and it can save you enormous amounts of time.\n",
      "2. Libraries contain fewer bugs. You are almost guaranteed to have more bugs if you try to write the same code on your own. Python libraries are used by many different people. This means that bugs are more likely to be caught and fixed.\n",
      "3. Libraries are fast. Most of the commonly used libraries have been optimized by computer scientists. These are really smart people who know a lot more about programming than you do.\n"
     ]
    },
    {
     "cell_type": "markdown",
     "metadata": {},
     "source": [
      "Basic Python comes with many different functions. If you want a complete list see: https://docs.python.org/2/library/functions.html. However, there are some very common functions that we use a lot as physicists like exponentials and trigonometric functions that are not included. We can get these functions by importing a library."
     ]
    },
    {
     "cell_type": "markdown",
     "metadata": {},
     "source": [
      "In Python, libraries are imported using the command <code>import library_name</code>. To get additional math functions we want to import the <code>math</code> library. For a complete list of functions included in the math library see:  https://docs.python.org/2/library/math.html. The math library also gives us the variables &pi; and e."
     ]
    },
    {
     "cell_type": "code",
     "collapsed": false,
     "input": [
      "import math\n",
      "\n",
      "math.sin(1)"
     ],
     "language": "python",
     "metadata": {},
     "outputs": [
      {
       "metadata": {},
       "output_type": "pyout",
       "prompt_number": 26,
       "text": [
        "0.8414709848078965"
       ]
      }
     ],
     "prompt_number": 26
    },
    {
     "cell_type": "markdown",
     "metadata": {},
     "source": [
      "The command above imported the math library along with all its functions. Once you have run a cell that imports a library, you can use that library in all cells."
     ]
    },
    {
     "cell_type": "code",
     "collapsed": false,
     "input": [
      "math.sin(2)"
     ],
     "language": "python",
     "metadata": {},
     "outputs": [
      {
       "metadata": {},
       "output_type": "pyout",
       "prompt_number": 16,
       "text": [
        "0.9092974268256817"
       ]
      }
     ],
     "prompt_number": 16
    },
    {
     "cell_type": "markdown",
     "metadata": {},
     "source": [
      " Notice how we had to use <code>math.sin(2)</code>. Try using just <code>sin(2).</code>"
     ]
    },
    {
     "cell_type": "code",
     "collapsed": false,
     "input": [
      "sin(2)"
     ],
     "language": "python",
     "metadata": {},
     "outputs": [
      {
       "metadata": {},
       "output_type": "pyout",
       "prompt_number": 18,
       "text": [
        "0.9092974268256817"
       ]
      }
     ],
     "prompt_number": 18
    },
    {
     "cell_type": "markdown",
     "metadata": {},
     "source": [
      "The reason you have to use <code>math.sin(2)</code> is because the math library has its own namespace. A namespace is a collection of functions, variables, classes, etc. that have been grouped together. Within a namespace, each function, variable, class, etc. must have a different name. But, two different namespaces can have functions, variable, classes, etc. with the same name: <code>namespace_1.sin()</code> and <code>namespace_2.sin()</code>. Namespaces are very useful because they allow us to reuse names. When writing your code, you don't have to worry about which names a library uses because they are in a different namespace."
     ]
    },
    {
     "cell_type": "markdown",
     "metadata": {},
     "source": [
      "Sometimes a library will have a very long name and you don't want to have to type it every time you use a function in that library. Python gives you the option of specifying what namespace you want the library to be in. This is done with the keyword <code>as</code>."
     ]
    },
    {
     "cell_type": "code",
     "collapsed": false,
     "input": [
      "import math as m\n",
      "\n",
      "m.sin(1)"
     ],
     "language": "python",
     "metadata": {},
     "outputs": [
      {
       "metadata": {},
       "output_type": "pyout",
       "prompt_number": 11,
       "text": [
        "0.8414709848078965"
       ]
      }
     ],
     "prompt_number": 11
    },
    {
     "cell_type": "markdown",
     "metadata": {},
     "source": [
      "Some libraries are very big and you might only want just a few functions. In Python, you can import just the functions you need using <code>from library_name import function_name</code>"
     ]
    },
    {
     "cell_type": "code",
     "collapsed": false,
     "input": [
      "from math import pi\n",
      "from math import cos\n",
      "\n",
      "cos(pi)"
     ],
     "language": "python",
     "metadata": {},
     "outputs": [
      {
       "metadata": {},
       "output_type": "pyout",
       "prompt_number": 23,
       "text": [
        "-1.0"
       ]
      }
     ],
     "prompt_number": 23
    },
    {
     "cell_type": "markdown",
     "metadata": {},
     "source": [
      "Notice how when you import a single function it is no longer in the namespace of the library. It is now in the global namespace. The global namespace is the main namespace of your program. You can import all the functions from a library into the global namespace using"
     ]
    },
    {
     "cell_type": "code",
     "collapsed": false,
     "input": [
      "from math import *"
     ],
     "language": "python",
     "metadata": {},
     "outputs": [],
     "prompt_number": 27
    },
    {
     "cell_type": "markdown",
     "metadata": {},
     "source": [
      "WARNING! This is typically a really bad idea! You will see many examples where this type of import is used, but it can create several problems. One of the biggest problems is that it can overwrite functions and variables in the global namespace. For example, supposed you wrote a function called <code>count</code> that counts the number of times the letter 'e' appears in a string. You run <code>from some_library import *</code> and <code>some_library</code> also has a function named <code>count</code> that prints out the numbers 1 through 10. When you import <code>some_library</code>, its version of <code>count</code> overrides your version. Then when you try to use your <code>count</code>, a bunch of numbers are printed out on the screen. You look through your code and can't find a single <code>print</code> statement that could be causing this problem. Several hours later, you figure out what happened. It is best to keep libraries in their own namespace. I have included this so you know what is going on if you copy and paste code using this method."
     ]
    },
    {
     "cell_type": "markdown",
     "metadata": {},
     "source": [
      "Python contains many standard libraries. A complete list can be found at https://docs.python.org/2/library/index.html. Here are three of the standard libraries."
     ]
    },
    {
     "cell_type": "markdown",
     "metadata": {},
     "source": [
      "<h4>cmath</h4>"
     ]
    },
    {
     "cell_type": "markdown",
     "metadata": {},
     "source": [
      "The cmath library contains functions for working with complex numbers. Note that Python follows the engineering convention for complex numbers, using j as the square root of negative 1. https://docs.python.org/2/library/cmath.html"
     ]
    },
    {
     "cell_type": "code",
     "collapsed": false,
     "input": [
      "import cmath\n",
      "\n",
      "cmath.sqrt(-1)"
     ],
     "language": "python",
     "metadata": {},
     "outputs": [
      {
       "metadata": {},
       "output_type": "pyout",
       "prompt_number": 30,
       "text": [
        "1j"
       ]
      }
     ],
     "prompt_number": 30
    },
    {
     "cell_type": "markdown",
     "metadata": {},
     "source": [
      "<h4>random</h4>"
     ]
    },
    {
     "cell_type": "markdown",
     "metadata": {},
     "source": [
      "The random library provides pseudorandom number generators that we will use for simulation. https://docs.python.org/2/library/random.html"
     ]
    },
    {
     "cell_type": "code",
     "collapsed": false,
     "input": [
      "import random\n",
      "\n",
      "random.randint(1, 10)"
     ],
     "language": "python",
     "metadata": {},
     "outputs": [
      {
       "metadata": {},
       "output_type": "pyout",
       "prompt_number": 39,
       "text": [
        "9"
       ]
      }
     ],
     "prompt_number": 39
    },
    {
     "cell_type": "markdown",
     "metadata": {},
     "source": [
      "<h4>os</h4>"
     ]
    },
    {
     "cell_type": "markdown",
     "metadata": {},
     "source": [
      "The os library gives you the ability to create folders, move files, call terminal command, etc. from Python. https://docs.python.org/2/library/os.path.html#module-os.path"
     ]
    },
    {
     "cell_type": "code",
     "collapsed": false,
     "input": [
      "import os\n",
      "\n",
      "os.getcwd()"
     ],
     "language": "python",
     "metadata": {},
     "outputs": [
      {
       "metadata": {},
       "output_type": "pyout",
       "prompt_number": 41,
       "text": [
        "'/home/jqnorris/Documents/Teaching/Physics 102/Labs/Lab 2'"
       ]
      }
     ],
     "prompt_number": 41
    },
    {
     "cell_type": "markdown",
     "metadata": {},
     "source": [
      "<h3>NumPy</h3>"
     ]
    },
    {
     "cell_type": "markdown",
     "metadata": {},
     "source": [
      "While not a standard library NumPy is one of the main libraries used in scientific research. NumPy is a library that allows us to efficiently work with arrays. Arrays are like lists except that every item in an array must have the same data type. Because we typically work with numbers, arrays are perfect for what we need."
     ]
    },
    {
     "cell_type": "markdown",
     "metadata": {},
     "source": [
      "<h4>Creating Arrays</h4>"
     ]
    },
    {
     "cell_type": "markdown",
     "metadata": {},
     "source": [
      "The easiest simplest way to create an array is using a list or a tuple. Remember that Python will automatically type-cast data types when creating arrays."
     ]
    },
    {
     "cell_type": "code",
     "collapsed": false,
     "input": [
      "import numpy as np\n",
      "\n",
      "my_array = np.array([1, 1., '1'])\n",
      "print my_array\n",
      "\n",
      "my_array = np.array((1.,2.,3))\n",
      "print my_array"
     ],
     "language": "python",
     "metadata": {},
     "outputs": [
      {
       "output_type": "stream",
       "stream": "stdout",
       "text": [
        "['1' '1.0' '1']\n",
        "[ 1.  2.  3.]"
       ]
      },
      {
       "output_type": "stream",
       "stream": "stdout",
       "text": [
        "\n"
       ]
      }
     ],
     "prompt_number": 1
    },
    {
     "cell_type": "markdown",
     "metadata": {},
     "source": [
      "We can explicity specify the data type using the keyword 'dtype' as an optional argument."
     ]
    },
    {
     "cell_type": "code",
     "collapsed": false,
     "input": [
      "my_array = np.array([1, 1., '1'], dtype=float)\n",
      "print my_array"
     ],
     "language": "python",
     "metadata": {},
     "outputs": [
      {
       "output_type": "stream",
       "stream": "stdout",
       "text": [
        "[ 1.  1.  1.]\n"
       ]
      }
     ],
     "prompt_number": 58
    },
    {
     "cell_type": "markdown",
     "metadata": {},
     "source": [
      "We can also creat arrays from lists of lists, giving us multi-dimensional arrays."
     ]
    },
    {
     "cell_type": "code",
     "collapsed": false,
     "input": [
      "my_array = np.array([ [1, 2, 3], [4, 5, 6,] ])\n",
      "print my_array"
     ],
     "language": "python",
     "metadata": {},
     "outputs": [
      {
       "output_type": "stream",
       "stream": "stdout",
       "text": [
        "[[1 2 3]\n",
        " [4 5 6]]\n"
       ]
      }
     ],
     "prompt_number": 60
    },
    {
     "cell_type": "markdown",
     "metadata": {},
     "source": [
      "If we know the size of an array but not the elements, we can create an array with all zeros or ones. The functions <code>numpy.zeros()</code> and <code>numpy.zeros()</code> take a tuples are arguments. If there are two elements in the tuple, the first is the number of rows and the second is the number of columns."
     ]
    },
    {
     "cell_type": "code",
     "collapsed": false,
     "input": [
      "my_array = np.zeros((3,5))\n",
      "print my_array"
     ],
     "language": "python",
     "metadata": {},
     "outputs": [
      {
       "output_type": "stream",
       "stream": "stdout",
       "text": [
        "[[ 0.  0.  0.  0.  0.]\n",
        " [ 0.  0.  0.  0.  0.]\n",
        " [ 0.  0.  0.  0.  0.]]\n"
       ]
      }
     ],
     "prompt_number": 65
    },
    {
     "cell_type": "code",
     "collapsed": false,
     "input": [
      "my_array = np.ones((2,2,2))\n",
      "print my_array"
     ],
     "language": "python",
     "metadata": {},
     "outputs": [
      {
       "output_type": "stream",
       "stream": "stdout",
       "text": [
        "[[[ 1.  1.]\n",
        "  [ 1.  1.]]\n",
        "\n",
        " [[ 1.  1.]\n",
        "  [ 1.  1.]]]\n"
       ]
      }
     ],
     "prompt_number": 67
    },
    {
     "cell_type": "markdown",
     "metadata": {},
     "source": [
      "Numpy also has a function for creating arrays containing sequences of values similar to <code>range</code> with lists."
     ]
    },
    {
     "cell_type": "code",
     "collapsed": false,
     "input": [
      "my_array = np.arange(3,48,3)\n",
      "print my_array"
     ],
     "language": "python",
     "metadata": {},
     "outputs": [
      {
       "output_type": "stream",
       "stream": "stdout",
       "text": [
        "[ 3  6  9 12 15 18 21 24 27 30 33 36 39 42 45]\n"
       ]
      }
     ],
     "prompt_number": 72
    },
    {
     "cell_type": "markdown",
     "metadata": {},
     "source": [
      "Alternatively, we might want an array with with a given number of values evenly spaced between two numbers."
     ]
    },
    {
     "cell_type": "code",
     "collapsed": false,
     "input": [
      "my_array = np.linspace(0, 1, num=10)\n",
      "print my_array"
     ],
     "language": "python",
     "metadata": {},
     "outputs": [
      {
       "output_type": "stream",
       "stream": "stdout",
       "text": [
        "[ 0.          0.11111111  0.22222222  0.33333333  0.44444444  0.55555556\n",
        "  0.66666667  0.77777778  0.88888889  1.        ]\n"
       ]
      }
     ],
     "prompt_number": 75
    },
    {
     "cell_type": "markdown",
     "metadata": {},
     "source": [
      "If the array is too large, only the corners are shown"
     ]
    },
    {
     "cell_type": "code",
     "collapsed": false,
     "input": [
      "my_array = np.zeros((100,100))\n",
      "print my_array"
     ],
     "language": "python",
     "metadata": {},
     "outputs": [
      {
       "output_type": "stream",
       "stream": "stdout",
       "text": [
        "[[ 0.  0.  0. ...,  0.  0.  0.]\n",
        " [ 0.  0.  0. ...,  0.  0.  0.]\n",
        " [ 0.  0.  0. ...,  0.  0.  0.]\n",
        " ..., \n",
        " [ 0.  0.  0. ...,  0.  0.  0.]\n",
        " [ 0.  0.  0. ...,  0.  0.  0.]\n",
        " [ 0.  0.  0. ...,  0.  0.  0.]]\n"
       ]
      }
     ],
     "prompt_number": 80
    },
    {
     "cell_type": "markdown",
     "metadata": {},
     "source": [
      "<h4>Array Operations</h4>"
     ]
    },
    {
     "cell_type": "markdown",
     "metadata": {},
     "source": [
      "The power of NumPy arrays lies in how they work with operators. Numpy returns a new array with the operator applied to every element of the array."
     ]
    },
    {
     "cell_type": "code",
     "collapsed": false,
     "input": [
      "my_array=np.arange(1,5)\n",
      "\n",
      "print my_array+1"
     ],
     "language": "python",
     "metadata": {},
     "outputs": [
      {
       "output_type": "stream",
       "stream": "stdout",
       "text": [
        "[2 3 4 5]\n"
       ]
      }
     ],
     "prompt_number": 82
    },
    {
     "cell_type": "code",
     "collapsed": false,
     "input": [
      "print my_array**2"
     ],
     "language": "python",
     "metadata": {},
     "outputs": [
      {
       "output_type": "stream",
       "stream": "stdout",
       "text": [
        "[ 1  4  9 16]\n"
       ]
      }
     ],
     "prompt_number": 83
    },
    {
     "cell_type": "code",
     "collapsed": false,
     "input": [
      "print my_array/9."
     ],
     "language": "python",
     "metadata": {},
     "outputs": [
      {
       "output_type": "stream",
       "stream": "stdout",
       "text": [
        "[ 0.11111111  0.22222222  0.33333333  0.44444444]\n"
       ]
      }
     ],
     "prompt_number": 85
    },
    {
     "cell_type": "code",
     "collapsed": false,
     "input": [
      "a = np.array([10., 20., 30., 40., 50.])\n",
      "b = np.linspace(1., 8., 5)\n",
      "\n",
      "print a-b"
     ],
     "language": "python",
     "metadata": {},
     "outputs": [
      {
       "output_type": "stream",
       "stream": "stdout",
       "text": [
        "[  9.    17.25  25.5   33.75  42.  ]\n"
       ]
      }
     ],
     "prompt_number": 89
    },
    {
     "cell_type": "markdown",
     "metadata": {},
     "source": [
      "NumPy even has built-in functions for handling trig and log functions. Does NumPy use radians or degrees for trig functions?"
     ]
    },
    {
     "cell_type": "code",
     "collapsed": false,
     "input": [
      "my_array=np.arange(1.,5.)\n",
      "\n",
      "np.sin(my_array)"
     ],
     "language": "python",
     "metadata": {},
     "outputs": [
      {
       "metadata": {},
       "output_type": "pyout",
       "prompt_number": 91,
       "text": [
        "array([ 0.84147098,  0.90929743,  0.14112001, -0.7568025 ])"
       ]
      }
     ],
     "prompt_number": 91
    },
    {
     "cell_type": "code",
     "collapsed": false,
     "input": [
      "np.log(my_array)"
     ],
     "language": "python",
     "metadata": {},
     "outputs": [
      {
       "metadata": {},
       "output_type": "pyout",
       "prompt_number": 92,
       "text": [
        "array([ 0.        ,  0.69314718,  1.09861229,  1.38629436])"
       ]
      }
     ],
     "prompt_number": 92
    },
    {
     "cell_type": "markdown",
     "metadata": {},
     "source": [
      "<h4>Array Properties</h4>"
     ]
    },
    {
     "cell_type": "markdown",
     "metadata": {},
     "source": [
      "NumPy arrays also included a number of built-in attributes and functions that provide information about the array. If you are familiar with object-oriented programing, the attributes are members and functions are member methods."
     ]
    },
    {
     "cell_type": "code",
     "collapsed": false,
     "input": [
      "my_array = np.array([[1, 2, 3], [4, 5, 6]])\n",
      "\n",
      "print my_array.ndim # Number of dimensions in the array\n",
      "\n",
      "print my_array.shape # Shape of the array (number of rows and columns for a 2D array)\n",
      "\n",
      "print my_array.size # Total number of elements in the array\n",
      "\n",
      "print my_array.dtype # Data-type of elements in the array\n",
      "\n",
      "print my_array.sum() # Sum of all the elements in the array\n",
      "\n",
      "print my_array.mean() # Mean of all the elements in the array\n",
      "\n",
      "print my_array.max() # The largest element in the array\n",
      "\n",
      "print my_array.min() # The smallest element in the array"
     ],
     "language": "python",
     "metadata": {},
     "outputs": [
      {
       "output_type": "stream",
       "stream": "stdout",
       "text": [
        "2\n",
        "(2, 3)\n",
        "6\n",
        "int64\n",
        "21\n",
        "3.5\n",
        "6\n",
        "1\n"
       ]
      }
     ],
     "prompt_number": 98
    },
    {
     "cell_type": "markdown",
     "metadata": {},
     "source": [
      "<h4>Element Access</h4>"
     ]
    },
    {
     "cell_type": "markdown",
     "metadata": {},
     "source": [
      "You can access elements in an array using an index just like with lists. For lists with multiple dimension, you can provide multiple indices separated with a comma."
     ]
    },
    {
     "cell_type": "code",
     "collapsed": false,
     "input": [
      "my_array = np.array([[1, 2, 3], [4, 5, 6]])\n",
      "\n",
      "print my_array[1]\n",
      "\n",
      "print my_array[0, 2]"
     ],
     "language": "python",
     "metadata": {},
     "outputs": [
      {
       "output_type": "stream",
       "stream": "stdout",
       "text": [
        "[4 5 6]\n",
        "3\n"
       ]
      }
     ],
     "prompt_number": 100
    },
    {
     "cell_type": "markdown",
     "metadata": {},
     "source": [
      "Slicing also works with arrays."
     ]
    },
    {
     "cell_type": "code",
     "collapsed": false,
     "input": [
      "my_array = np.array([[1, 2, 3], [4, 5, 6], [7, 8, 9]])\n",
      "\n",
      "print my_array[:,1] # All elements in the second column"
     ],
     "language": "python",
     "metadata": {},
     "outputs": [
      {
       "output_type": "stream",
       "stream": "stdout",
       "text": [
        "[2 5 8]\n"
       ]
      }
     ],
     "prompt_number": 103
    },
    {
     "cell_type": "code",
     "collapsed": false,
     "input": [
      "print my_array[1:, 2] # All elements in rows 2 or greater and column 3"
     ],
     "language": "python",
     "metadata": {},
     "outputs": [
      {
       "output_type": "stream",
       "stream": "stdout",
       "text": [
        "[6 9]\n"
       ]
      }
     ],
     "prompt_number": 107
    },
    {
     "cell_type": "markdown",
     "metadata": {},
     "source": [
      "<h4>Copying</h4>"
     ]
    },
    {
     "cell_type": "markdown",
     "metadata": {},
     "source": [
      "Because NumPy arrays are mutable, assigning an array to a new variable does not make a copy of the array."
     ]
    },
    {
     "cell_type": "code",
     "collapsed": false,
     "input": [
      "my_array = np.zeros((2,2))\n",
      "\n",
      "new_array = my_array\n",
      "\n",
      "my_array[1,1] = 10\n",
      "\n",
      "print new_array"
     ],
     "language": "python",
     "metadata": {},
     "outputs": [
      {
       "output_type": "stream",
       "stream": "stdout",
       "text": [
        "[[  0.   0.]\n",
        " [  0.  10.]]\n"
       ]
      }
     ],
     "prompt_number": 111
    },
    {
     "cell_type": "markdown",
     "metadata": {},
     "source": [
      "To make a copy of an NumPy array you need to use the <code>copy()</code> member function."
     ]
    },
    {
     "cell_type": "code",
     "collapsed": false,
     "input": [
      "my_array = np.zeros((2,2))\n",
      "\n",
      "new_array = my_array.copy()\n",
      "\n",
      "my_array[1,1] = 10\n",
      "\n",
      "print new_array"
     ],
     "language": "python",
     "metadata": {},
     "outputs": [
      {
       "output_type": "stream",
       "stream": "stdout",
       "text": [
        "[[ 0.  0.]\n",
        " [ 0.  0.]]\n"
       ]
      }
     ],
     "prompt_number": 112
    },
    {
     "cell_type": "markdown",
     "metadata": {},
     "source": [
      "<h3>Writing Functions</h3>"
     ]
    },
    {
     "cell_type": "markdown",
     "metadata": {},
     "source": [
      "While Python has many functions it can be useful to write you own functions. You typically write functions when you want to use the same piece of code over an over again, you want to make or code more readable, or you are working with others and want to let them use functions you have written."
     ]
    },
    {
     "cell_type": "markdown",
     "metadata": {},
     "source": [
      "Writing functions in Python is very similar to the control flow syntax we introduced last week."
     ]
    },
    {
     "cell_type": "code",
     "collapsed": false,
     "input": [
      "def my_function(x):\n",
      "    return 2. * x + 3."
     ],
     "language": "python",
     "metadata": {},
     "outputs": [],
     "prompt_number": 115
    },
    {
     "cell_type": "markdown",
     "metadata": {},
     "source": [
      "A function definition begins with <code>def</code>. You can read this as \"define my function\". Function names follow the same rules as variable names. Beware that you can overwrite/overload Python functions by creating a function with the same name as a Python function."
     ]
    },
    {
     "cell_type": "code",
     "collapsed": false,
     "input": [
      "def len(x):\n",
      "    return 0\n",
      "\n",
      "len([1, 2, 3])"
     ],
     "language": "python",
     "metadata": {},
     "outputs": [
      {
       "metadata": {},
       "output_type": "pyout",
       "prompt_number": 5,
       "text": [
        "0"
       ]
      }
     ],
     "prompt_number": 5
    },
    {
     "cell_type": "markdown",
     "metadata": {},
     "source": [
      "Functions end with <code>return</code>. The function returns the value generated by the code on that line. Your function can have have multiple <code>return</code> statements, but once a <code>return</code> statement is executed the function terminates. Note that functions do not have to return a value."
     ]
    },
    {
     "cell_type": "code",
     "collapsed": false,
     "input": [
      "def size_checker(x):\n",
      "    if x > 10:\n",
      "        print \"Too big!\"\n",
      "        return\n",
      "    else:\n",
      "        print \"Just fine.\"\n",
      "        return\n",
      "    \n",
      "    print \"This code will never run because it is after a return\"\n",
      "\n",
      "\n",
      "size_checker(1)\n",
      "size_checker(20)"
     ],
     "language": "python",
     "metadata": {},
     "outputs": [
      {
       "output_type": "stream",
       "stream": "stdout",
       "text": [
        "Just fine.\n",
        "Too big!\n"
       ]
      }
     ],
     "prompt_number": 125
    },
    {
     "cell_type": "markdown",
     "metadata": {},
     "source": [
      "In Python arguments are passed by reference. This means that if your function make changes to a mutable argument, the changes will remain after the function terminates"
     ]
    },
    {
     "cell_type": "code",
     "collapsed": false,
     "input": [
      "def add_ten(x):\n",
      "    x.append(10)\n",
      "    return\n",
      "\n",
      "my_array = [1, 2, 3]\n",
      "\n",
      "add_ten(my_array)\n",
      "\n",
      "print my_array"
     ],
     "language": "python",
     "metadata": {},
     "outputs": [
      {
       "output_type": "stream",
       "stream": "stdout",
       "text": [
        "[1, 2, 3, 10]\n"
       ]
      }
     ],
     "prompt_number": 4
    },
    {
     "cell_type": "markdown",
     "metadata": {},
     "source": [
      "Functions can have multiple arguments."
     ]
    },
    {
     "cell_type": "code",
     "collapsed": false,
     "input": [
      "def pythagoras(x, y):\n",
      "    return (x**2 + y**2)**(1. / 2.)\n",
      "\n",
      "pythagoras(3, 4)"
     ],
     "language": "python",
     "metadata": {},
     "outputs": [
      {
       "metadata": {},
       "output_type": "pyout",
       "prompt_number": 11,
       "text": [
        "5.0"
       ]
      }
     ],
     "prompt_number": 11
    },
    {
     "cell_type": "markdown",
     "metadata": {},
     "source": [
      "Python functions can have several types of arguments."
     ]
    },
    {
     "cell_type": "markdown",
     "metadata": {},
     "source": [
      "<h4>Required Arguments</h4>"
     ]
    },
    {
     "cell_type": "markdown",
     "metadata": {},
     "source": [
      "Required arguments are the typical arguments used in functions. If you don't include the required number of arguments, Python will give you an error."
     ]
    },
    {
     "cell_type": "code",
     "collapsed": false,
     "input": [
      "pythagoras(2)"
     ],
     "language": "python",
     "metadata": {},
     "outputs": [
      {
       "ename": "TypeError",
       "evalue": "pythagoras() takes exactly 2 arguments (1 given)",
       "output_type": "pyerr",
       "traceback": [
        "\u001b[0;31m---------------------------------------------------------------------------\u001b[0m\n\u001b[0;31mTypeError\u001b[0m                                 Traceback (most recent call last)",
        "\u001b[0;32m<ipython-input-12-3a6328860087>\u001b[0m in \u001b[0;36m<module>\u001b[0;34m()\u001b[0m\n\u001b[0;32m----> 1\u001b[0;31m \u001b[0mpythagoras\u001b[0m\u001b[0;34m(\u001b[0m\u001b[0;36m2\u001b[0m\u001b[0;34m)\u001b[0m\u001b[0;34m\u001b[0m\u001b[0m\n\u001b[0m",
        "\u001b[0;31mTypeError\u001b[0m: pythagoras() takes exactly 2 arguments (1 given)"
       ]
      }
     ],
     "prompt_number": 12
    },
    {
     "cell_type": "markdown",
     "metadata": {},
     "source": [
      "<h4>Keyword Arguments</h4>\n"
     ]
    },
    {
     "cell_type": "markdown",
     "metadata": {},
     "source": [
      "Keyword arguments are used with a function is called and allow you to place the variables in any order when the function is called."
     ]
    },
    {
     "cell_type": "code",
     "collapsed": false,
     "input": [
      "def create_pair(x, y):\n",
      "    return (x,y)\n",
      "\n",
      "print create_pair(1, 2)\n",
      "\n",
      "print create_pair(y=1, x=2)"
     ],
     "language": "python",
     "metadata": {},
     "outputs": [
      {
       "output_type": "stream",
       "stream": "stdout",
       "text": [
        "(1, 2)\n",
        "(2, 1)\n"
       ]
      }
     ],
     "prompt_number": 13
    },
    {
     "cell_type": "markdown",
     "metadata": {},
     "source": [
      "<h4>Default Arguments</h4>"
     ]
    },
    {
     "cell_type": "markdown",
     "metadata": {},
     "source": [
      "A Default argument gives a default value to use for a parameter, it that parameter is not given. This can be used to create a function that uses a typical value, but allows the user to change it."
     ]
    },
    {
     "cell_type": "code",
     "collapsed": false,
     "input": [
      "import numpy as np\n",
      "\n",
      "def create_filled_array(x, size=10):\n",
      "    return np.ones(size)*x\n",
      "\n",
      "print create_filled_array(3)\n",
      "\n",
      "print create_filled_array(3, 5)"
     ],
     "language": "python",
     "metadata": {},
     "outputs": [
      {
       "output_type": "stream",
       "stream": "stdout",
       "text": [
        "[ 3.  3.  3.  3.  3.  3.  3.  3.  3.  3.]\n",
        "[ 3.  3.  3.  3.  3.]\n"
       ]
      }
     ],
     "prompt_number": 2
    },
    {
     "cell_type": "markdown",
     "metadata": {},
     "source": [
      "<h4>Scope</h4>"
     ]
    },
    {
     "cell_type": "markdown",
     "metadata": {},
     "source": [
      "One important thing to keep track of when writing functions is variable scope. Like namespaces, scope allows us to reuse variable names. There are typically two scopes, global and local. Like the global namespace, the global scope includes all variables defined outside of functions, for loops, while loops, if statements, etc. The local scope includes just variables defined inside the function, for loop, while loop, if statement, etc. When resolving a variable name, Python first checks the local scope. If the variable is defined in the local scope, Python uses the object associated with that variable. If the variable is not defined in the local scope, Python checks the global scope and uses the object the object associate with that variable in the global scope. If the variable is not defined in either scope, Python returns an error."
     ]
    },
    {
     "cell_type": "code",
     "collapsed": false,
     "input": [
      "name = \"J. Quinn Norris\"\n",
      "\n",
      "def with_friends():\n",
      "    name = \"Quinn\"\n",
      "    print name\n",
      "    return\n",
      "    \n",
      "with_friends()"
     ],
     "language": "python",
     "metadata": {},
     "outputs": [
      {
       "output_type": "stream",
       "stream": "stdout",
       "text": [
        "Quinn\n"
       ]
      }
     ],
     "prompt_number": 25
    },
    {
     "cell_type": "code",
     "collapsed": false,
     "input": [
      "def at_job_interview():\n",
      "    print name\n",
      "    return\n",
      "    \n",
      "at_job_interview()"
     ],
     "language": "python",
     "metadata": {},
     "outputs": [
      {
       "output_type": "stream",
       "stream": "stdout",
       "text": [
        "J. Quinn Norris\n"
       ]
      }
     ],
     "prompt_number": 19
    },
    {
     "cell_type": "code",
     "collapsed": false,
     "input": [
      "def official():\n",
      "    print full_name\n",
      "    return\n",
      "    \n",
      "official()"
     ],
     "language": "python",
     "metadata": {},
     "outputs": [
      {
       "ename": "NameError",
       "evalue": "global name 'full_name' is not defined",
       "output_type": "pyerr",
       "traceback": [
        "\u001b[0;31m---------------------------------------------------------------------------\u001b[0m\n\u001b[0;31mNameError\u001b[0m                                 Traceback (most recent call last)",
        "\u001b[0;32m<ipython-input-26-a869f425ffaf>\u001b[0m in \u001b[0;36m<module>\u001b[0;34m()\u001b[0m\n\u001b[1;32m      3\u001b[0m     \u001b[0;32mreturn\u001b[0m\u001b[0;34m\u001b[0m\u001b[0m\n\u001b[1;32m      4\u001b[0m \u001b[0;34m\u001b[0m\u001b[0m\n\u001b[0;32m----> 5\u001b[0;31m \u001b[0mofficial\u001b[0m\u001b[0;34m(\u001b[0m\u001b[0;34m)\u001b[0m\u001b[0;34m\u001b[0m\u001b[0m\n\u001b[0m",
        "\u001b[0;32m<ipython-input-26-a869f425ffaf>\u001b[0m in \u001b[0;36mofficial\u001b[0;34m()\u001b[0m\n\u001b[1;32m      1\u001b[0m \u001b[0;32mdef\u001b[0m \u001b[0mofficial\u001b[0m\u001b[0;34m(\u001b[0m\u001b[0;34m)\u001b[0m\u001b[0;34m:\u001b[0m\u001b[0;34m\u001b[0m\u001b[0m\n\u001b[0;32m----> 2\u001b[0;31m     \u001b[0;32mprint\u001b[0m \u001b[0mfull_name\u001b[0m\u001b[0;34m\u001b[0m\u001b[0m\n\u001b[0m\u001b[1;32m      3\u001b[0m     \u001b[0;32mreturn\u001b[0m\u001b[0;34m\u001b[0m\u001b[0m\n\u001b[1;32m      4\u001b[0m \u001b[0;34m\u001b[0m\u001b[0m\n\u001b[1;32m      5\u001b[0m \u001b[0mofficial\u001b[0m\u001b[0;34m(\u001b[0m\u001b[0;34m)\u001b[0m\u001b[0;34m\u001b[0m\u001b[0m\n",
        "\u001b[0;31mNameError\u001b[0m: global name 'full_name' is not defined"
       ]
      }
     ],
     "prompt_number": 26
    },
    {
     "cell_type": "markdown",
     "metadata": {},
     "source": [
      "When using global variables, Python will use the current object associated with the variable name. This means that if you change the value of a global variable used in a function, all future calls to the function will use the new value."
     ]
    },
    {
     "cell_type": "code",
     "collapsed": false,
     "input": [
      "some_value = 2\n",
      "\n",
      "def some_function():\n",
      "    print some_value\n",
      "    return\n",
      "    \n",
      "some_value = 4\n",
      "\n",
      "some_function()"
     ],
     "language": "python",
     "metadata": {},
     "outputs": [
      {
       "output_type": "stream",
       "stream": "stdout",
       "text": [
        "4\n"
       ]
      }
     ],
     "prompt_number": 27
    },
    {
     "cell_type": "markdown",
     "metadata": {},
     "source": [
      "<h3>Creating Your Own Libraries</h3>"
     ]
    },
    {
     "cell_type": "markdown",
     "metadata": {},
     "source": [
      "Creating your own Python library is easy. You just define all the variables and functions associated with you library in a single file that ends in '.py'. Make sure that file is in the same file folder where you are running Python. You can then import the file just like any other library."
     ]
    },
    {
     "cell_type": "code",
     "collapsed": false,
     "input": [
      "import sample_library as sl\n",
      "\n",
      "print sl.pi\n",
      "\n",
      "sl.hello_world()\n",
      "\n",
      "sl.my_name()"
     ],
     "language": "python",
     "metadata": {},
     "outputs": [
      {
       "output_type": "stream",
       "stream": "stdout",
       "text": [
        "3.1415962\n",
        "Hello World!\n",
        "No Name\n"
       ]
      }
     ],
     "prompt_number": 3
    },
    {
     "cell_type": "markdown",
     "metadata": {},
     "source": [
      "Open \"sample_library.py\" in a text editor, change the name to your own and save the file. No run the following cell."
     ]
    },
    {
     "cell_type": "code",
     "collapsed": false,
     "input": [
      "import sample_library as sl\n",
      "\n",
      "sl.my_name()"
     ],
     "language": "python",
     "metadata": {},
     "outputs": [
      {
       "output_type": "stream",
       "stream": "stdout",
       "text": [
        "No Name\n"
       ]
      }
     ],
     "prompt_number": 53
    },
    {
     "cell_type": "markdown",
     "metadata": {},
     "source": [
      "You probably did not see your name. This is because python only loads a library once. Even if you have multiple include statements, Python checks to see if the library is loaded. If it is, then Python does not load it again."
     ]
    },
    {
     "cell_type": "markdown",
     "metadata": {},
     "source": [
      "We can reload our library using some IPython magic. First we need to load the IPython magic command."
     ]
    },
    {
     "cell_type": "code",
     "collapsed": false,
     "input": [
      "%load_ext autoreload"
     ],
     "language": "python",
     "metadata": {},
     "outputs": [],
     "prompt_number": 41
    },
    {
     "cell_type": "markdown",
     "metadata": {},
     "source": [
      "Once the magic command is loaded, we can call it. Using this magic command, all libraries that have been loaded are reloaded."
     ]
    },
    {
     "cell_type": "code",
     "collapsed": false,
     "input": [
      "%autoreload"
     ],
     "language": "python",
     "metadata": {},
     "outputs": [],
     "prompt_number": 47
    },
    {
     "cell_type": "markdown",
     "metadata": {},
     "source": [
      "Try printing your name now."
     ]
    },
    {
     "cell_type": "code",
     "collapsed": false,
     "input": [
      "sl.my_name()"
     ],
     "language": "python",
     "metadata": {},
     "outputs": [
      {
       "output_type": "stream",
       "stream": "stdout",
       "text": [
        "test\n"
       ]
      }
     ],
     "prompt_number": 47
    },
    {
     "cell_type": "markdown",
     "metadata": {},
     "source": [
      "<h2>Exercises</h2>"
     ]
    },
    {
     "cell_type": "markdown",
     "metadata": {},
     "source": [
      "The IPython notebook is a great interface for learning about Python, but it is not the best interface for computational Physics. Rather than writing lines of code in a notebook, you will write a library that contains a function for solving each of the exercises. With each notebook there will be a library file. In that file, there will be dummy functions for each of the exercises. Argument names will also be given. To make things easier to grade, do not change the function or variable names. Your job is to complete the functions so they can be called from an IPython notebook to answer the questions. Please comment your code. If for some reason your code does not work as expected, partial credit will be given for well documented code. Please read through all the exercises before starting."
     ]
    },
    {
     "cell_type": "markdown",
     "metadata": {},
     "source": [
      "For this lab the library file is included in the zipped directory. It is called lab_2.py. Open this file in a text editor. You can open the file by right clicking on it and choosing open with. Under open with, you can choose your text editor. For this class, I do not care which text editor you use. For the computers in Physics 106, the default text editor should be gedit. In \"lab_2.py\" you will see a section for each exercise in this lab. In each section there are places for you to write a function. For the first function there is an example of good function documentation. This type of documentation is called a docstring and can be accessed from the IPython notebook using <code>?function_name<code>."
     ]
    },
    {
     "cell_type": "code",
     "collapsed": false,
     "input": [
      "import lab_2  "
     ],
     "language": "python",
     "metadata": {},
     "outputs": [],
     "prompt_number": 4
    },
    {
     "cell_type": "markdown",
     "metadata": {},
     "source": [
      "<h3>Exercise 1</h3>"
     ]
    },
    {
     "cell_type": "markdown",
     "metadata": {},
     "source": [
      "When looking at data, we often want to see the relationship between two different quantities in the data. A major goal of physics is finding the functional relationship between different quantities. Sometimes we have an idea of what we think the functional relationship should be and want to do a quick check before we spend a lot of time testing our hypothesis. We can do this by making a plot with both the data and our function, and looking at the plot to see if they agree (we will learn about plotting next week). Often the data is sparce and only contains a few points or most of the points will be grouped around a single value. If we try to plot our function using only the values in the data, we will have a plot that does not show the true shape of the function and in general will just look bad. In order to make a good plot of our function, wee need to have more points. However, we want these points to cover the same range as the data, i.e. have the same minimum and maximum."
     ]
    },
    {
     "cell_type": "markdown",
     "metadata": {},
     "source": [
      "The goal of this exercise is to write a function that takes a 1D list or a NumPy array as a required argument and returns a 1D NumPy array that has the same minimum and maximum as the argument list or array; however, the returned array should have a specified number of evenly spaced points. The number of points should be implemented as a optional argument with a default of 100 points. (Don't forget to import any other libraries you will need)."
     ]
    },
    {
     "cell_type": "code",
     "collapsed": false,
     "input": [
      "x = np.array([1,2,3,15])\n",
      "\n",
      "y = lab_2.make_regular_array(x)\n",
      "print y"
     ],
     "language": "python",
     "metadata": {},
     "outputs": [
      {
       "output_type": "stream",
       "stream": "stdout",
       "text": [
        "[  1.           1.14141414   1.28282828   1.42424242   1.56565657\n",
        "   1.70707071   1.84848485   1.98989899   2.13131313   2.27272727\n",
        "   2.41414141   2.55555556   2.6969697    2.83838384   2.97979798\n",
        "   3.12121212   3.26262626   3.4040404    3.54545455   3.68686869\n",
        "   3.82828283   3.96969697   4.11111111   4.25252525   4.39393939\n",
        "   4.53535354   4.67676768   4.81818182   4.95959596   5.1010101\n",
        "   5.24242424   5.38383838   5.52525253   5.66666667   5.80808081\n",
        "   5.94949495   6.09090909   6.23232323   6.37373737   6.51515152\n",
        "   6.65656566   6.7979798    6.93939394   7.08080808   7.22222222\n",
        "   7.36363636   7.50505051   7.64646465   7.78787879   7.92929293\n",
        "   8.07070707   8.21212121   8.35353535   8.49494949   8.63636364\n",
        "   8.77777778   8.91919192   9.06060606   9.2020202    9.34343434\n",
        "   9.48484848   9.62626263   9.76767677   9.90909091  10.05050505\n",
        "  10.19191919  10.33333333  10.47474747  10.61616162  10.75757576\n",
        "  10.8989899   11.04040404  11.18181818  11.32323232  11.46464646\n",
        "  11.60606061  11.74747475  11.88888889  12.03030303  12.17171717\n",
        "  12.31313131  12.45454545  12.5959596   12.73737374  12.87878788\n",
        "  13.02020202  13.16161616  13.3030303   13.44444444  13.58585859\n",
        "  13.72727273  13.86868687  14.01010101  14.15151515  14.29292929\n",
        "  14.43434343  14.57575758  14.71717172  14.85858586  15.        ]\n"
       ]
      }
     ],
     "prompt_number": 7
    },
    {
     "cell_type": "markdown",
     "metadata": {},
     "source": [
      "<h3>Exercise 2</h3>"
     ]
    },
    {
     "cell_type": "markdown",
     "metadata": {},
     "source": [
      "The simplest relationship between two points is a line $y=m x+b$. The goal of this exercise is to write a function that takes a NumPy array x, a number for m, and a number for b and returns an array containing the y values calculated using $y = f\\left(x\\right) = m x +b$."
     ]
    },
    {
     "cell_type": "code",
     "collapsed": false,
     "input": [
      "x = np.arange(0,10)\n",
      "\n",
      "y = lab_2.calc_line(x, 0, 1)\n",
      "print y"
     ],
     "language": "python",
     "metadata": {},
     "outputs": [
      {
       "output_type": "stream",
       "stream": "stdout",
       "text": [
        "[1 1 1 1 1 1 1 1 1 1]\n"
       ]
      }
     ],
     "prompt_number": 8
    },
    {
     "cell_type": "markdown",
     "metadata": {},
     "source": [
      "<h3>Exercise 3</h3>"
     ]
    },
    {
     "cell_type": "markdown",
     "metadata": {},
     "source": [
      "Now that we have a function, we can ask the question: How far is the function from our data? This answer to this question depends on how we define distance. Hopefully the concept of having different definitions of distance is not new to you. This is exactly what happens in special relativity with length contraction and the the difference between propper distance and Euclidian distance. As you continue in physics, you will learn about situations where different measures of distance become very useful. "
     ]
    },
    {
     "cell_type": "markdown",
     "metadata": {},
     "source": [
      "When comparing the distance between a function and data, a common definition of distance is the sum of the squares of the residuals. Let me walk you through that. The residual $r_i$ is the difference between a observed value $y_i$, and the value predicted by the function $f\\left(x_i\\right)$, $\\Rightarrow r_i = y_i-f\\left(x_i\\right)$. We calculate the residual for each point, square the values, and then add up, or sum the squares. This sum becomes the distance bewteen our function and the data. While there are some complications, functions that have a smaller distance from the data are a better fit."
     ]
    },
    {
     "cell_type": "markdown",
     "metadata": {},
     "source": [
      "The goal of this exercise is to write a function that takes three required arguments. The first argument is a 2D list or array containing the data we want to compare to our function. The second argument is the function itself (yes, you can use a function as an argument), the third argument is a list of arguments that you will need to pass to the first function. You can pass a list of arguments to another function using an asterisk. Example code: "
     ]
    },
    {
     "cell_type": "markdown",
     "metadata": {},
     "source": [
      "    def function_1(a, b, c):\n",
      "        print 'a =', a\n",
      "        print 'b =', b\n",
      "        print 'c =', c\n",
      "    \n",
      "    def function_2(a, args):\n",
      "        function_1(a, *args)\n",
      "\n",
      "    test_list = [2, 3]\n",
      "\n",
      "    function_2(1, test_list) \n",
      "    "
     ]
    },
    {
     "cell_type": "markdown",
     "metadata": {},
     "source": [
      "You can think of * as unpacking the list of arguments."
     ]
    },
    {
     "cell_type": "code",
     "collapsed": false,
     "input": [
      "x = np.array([[0,1,2,3,5], [1, 2, 5, 10, 26]])\n",
      "\n",
      "def function (x, a):\n",
      "    return a * (x**2)\n",
      "distance = lab_2.find_distance(x, function, [2])\n",
      "print distance"
     ],
     "language": "python",
     "metadata": {},
     "outputs": [
      {
       "output_type": "stream",
       "stream": "stdout",
       "text": [
        "[650]\n"
       ]
      }
     ],
     "prompt_number": 21
    },
    {
     "cell_type": "markdown",
     "metadata": {},
     "source": [
      "<h3>Exercise 4</h3>"
     ]
    },
    {
     "cell_type": "markdown",
     "metadata": {},
     "source": [
      "This is an exercise in programing practice. You have just written three functions, but how do you know they work the way that you want them to? Knowing for certain that you program does what you expect is one of the most important parts of programing. To check whether a program works as expected, you typically write a test function. This function calls you other function with specific arguments and makes sure the result is what you would expect. Typically you pick a simple example, one you can calculate by hand, and give that example to your function. If you function produces the correct result, you know that your function is working. Here is an example of a test function for addition."
     ]
    },
    {
     "cell_type": "markdown",
     "metadata": {},
     "source": [
      "    def add(a, b):\n",
      "        return a + b\n",
      "\n",
      "    def add_test():\n",
      "        c = add(1, 2)\n",
      "        if c == 3:\n",
      "            print \"Test Passed\"\n",
      "        else:\n",
      "            print \"Test Failed!\"\n",
      "\n",
      "    add_test()"
     ]
    },
    {
     "cell_type": "markdown",
     "metadata": {},
     "source": [
      "if you execute the above, then it'd print:    \n",
      "\n",
      "    Test Passed"
     ]
    },
    {
     "cell_type": "markdown",
     "metadata": {},
     "source": [
      "For each of the three functions you have just written write a test function to ensure that it is working as expected."
     ]
    },
    {
     "cell_type": "code",
     "collapsed": false,
     "input": [
      " lab_2.make_regular_array_test()"
     ],
     "language": "python",
     "metadata": {},
     "outputs": [
      {
       "output_type": "stream",
       "stream": "stdout",
       "text": [
        "Test Passed\n"
       ]
      }
     ],
     "prompt_number": 15
    },
    {
     "cell_type": "code",
     "collapsed": false,
     "input": [
      " lab_2.calc_line_test()"
     ],
     "language": "python",
     "metadata": {},
     "outputs": [
      {
       "output_type": "stream",
       "stream": "stdout",
       "text": [
        "Test Passed\n"
       ]
      }
     ],
     "prompt_number": 16
    },
    {
     "cell_type": "code",
     "collapsed": false,
     "input": [
      " lab_2.find_distance_test()"
     ],
     "language": "python",
     "metadata": {},
     "outputs": [
      {
       "output_type": "stream",
       "stream": "stdout",
       "text": [
        "Test Passed\n"
       ]
      }
     ],
     "prompt_number": 18
    },
    {
     "cell_type": "code",
     "collapsed": false,
     "input": [],
     "language": "python",
     "metadata": {},
     "outputs": []
    }
   ],
   "metadata": {}
  }
 ]
}