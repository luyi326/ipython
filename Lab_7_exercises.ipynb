{
 "metadata": {
  "name": "",
  "signature": "sha256:bdce5d91c17ddd8fc9fcf81a0f7ee5666e2ef96fd9074d4bd713c74c706933bf"
 },
 "nbformat": 3,
 "nbformat_minor": 0,
 "worksheets": [
  {
   "cells": [
    {
     "cell_type": "markdown",
     "metadata": {},
     "source": [
      "<h1>Lab 7: Simulation</h1>\n",
      "<h2>Physics 102 - Fall 2014</h2>\n",
      "\n",
      "<h4>Learning Objectives:</h4>\n",
      "At the end of this lab, you will be able to:\n",
      "<ul>\n",
      "    <li>Create random-walk simulations.</li>\n",
      "    <li>Modify simulations to produce flocking behavior.</li>\n",
      "</ul> "
     ]
    },
    {
     "cell_type": "markdown",
     "metadata": {},
     "source": [
      "<h2>Exercises</h2>"
     ]
    },
    {
     "cell_type": "markdown",
     "metadata": {},
     "source": [
      "The goal of this exercise is to model the <a href='http://en.wikipedia.org/wiki/Shoaling_and_schooling'>schooling behavior</a> of fish. I have written several example simulations to get you started. For simplicity, we will only change the direction the fish are traveling not the speed at which they are traveling. Run the examples and look through the code. You do not need to understand every line of code, but you should have a general idea of what each section does."
     ]
    },
    {
     "cell_type": "code",
     "collapsed": false,
     "input": [
      "import lab_7_examples\n",
      "import matplotlib as mpl\n",
      "mpl.use('TkAgg')"
     ],
     "language": "python",
     "metadata": {},
     "outputs": []
    },
    {
     "cell_type": "markdown",
     "metadata": {},
     "source": [
      "<h3>Example 1</h3>"
     ]
    },
    {
     "cell_type": "markdown",
     "metadata": {},
     "source": [
      "The first example just has the fish swim in circles. This is done by adding a small angle to the current velocity direction."
     ]
    },
    {
     "cell_type": "code",
     "collapsed": false,
     "input": [
      "reload(lab_7_examples)\n",
      "\n",
      "sim = lab_7_examples.flocking_sim_1(20, 200)\n",
      "sim.run_sim()\n",
      "sim.animate_sim()"
     ],
     "language": "python",
     "metadata": {},
     "outputs": []
    },
    {
     "cell_type": "markdown",
     "metadata": {},
     "source": [
      "<h3>Example 2</h3>"
     ]
    },
    {
     "cell_type": "markdown",
     "metadata": {},
     "source": [
      "In this example, all the fish eventually swim in the same direction. This is done by averaging the current velocity direction of the fish with the velocity direction of a 'neighboring' fish."
     ]
    },
    {
     "cell_type": "code",
     "collapsed": false,
     "input": [
      "reload(lab_7_examples)\n",
      "\n",
      "sim = lab_7_examples.flocking_sim_2(20, 2000)\n",
      "sim.run_sim()\n",
      "sim.animate_sim()"
     ],
     "language": "python",
     "metadata": {},
     "outputs": []
    },
    {
     "cell_type": "markdown",
     "metadata": {},
     "source": [
      "<h3>Example 3</h3>"
     ]
    },
    {
     "cell_type": "markdown",
     "metadata": {},
     "source": [
      "In this example, we introduce a shark. When a fish gets too close to the shark, it turns away from the shark. When the fish are not near the shark, they just swim in circles. (Be patient, this simulation may take a while to run.)"
     ]
    },
    {
     "cell_type": "code",
     "collapsed": false,
     "input": [
      "reload(lab_7_examples)\n",
      "\n",
      "sim = lab_7_examples.flocking_sim_3(100, 1000)\n",
      "sim.run_sim()\n",
      "sim.animate_sim()"
     ],
     "language": "python",
     "metadata": {},
     "outputs": []
    },
    {
     "cell_type": "markdown",
     "metadata": {},
     "source": [
      "These examples are similar to the random walk simulations described above in that the new position of the fish is the old position plus some change. The change comes from the velocity of the fish ($\\Delta x = v \\Delta t$)."
     ]
    },
    {
     "cell_type": "markdown",
     "metadata": {},
     "source": [
      "<h3>Exercise</h3>"
     ]
    },
    {
     "cell_type": "code",
     "collapsed": false,
     "input": [
      "import lab_7"
     ],
     "language": "python",
     "metadata": {},
     "outputs": []
    },
    {
     "cell_type": "markdown",
     "metadata": {},
     "source": [
      "Here is where you get to develop your own model and associated Python code for flocking. You will not need to write a complete simulation. In this weeks library, you are provided with a complete working simulation; however, the fish in this simulation do not display flocking behavior. For this weeks exercise, you need to come up with a model for flocking and modify the simulation to so that the fish display flocking behavior. This is very much a play around with code and see if you can get something that looks like flocking. There is only one section of code that you need to change, that is the section where the velocity directions of the fish are updated. This section of code is marked in the library. Try something and see what it looks like. I am not looking for a particular solution, you will receive full credit for this lab if your simulation displays flocking. (Be patient, this will probably take a while to run)."
     ]
    },
    {
     "cell_type": "code",
     "collapsed": false,
     "input": [
      "reload(lab_7)\n",
      "\n",
      "sim = lab_7.my_flocking_sim(100, 1000)\n",
      "sim.run_sim()\n",
      "sim.animate_sim()"
     ],
     "language": "python",
     "metadata": {},
     "outputs": []
    }
   ],
   "metadata": {}
  }
 ]
}