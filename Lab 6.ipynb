{
 "metadata": {
  "name": "",
  "signature": "sha256:114147d4d2eb315b835f75795c8ac72e637ee913de0f6d41a207e1e1f0e286ee"
 },
 "nbformat": 3,
 "nbformat_minor": 0,
 "worksheets": [
  {
   "cells": [
    {
     "cell_type": "markdown",
     "metadata": {},
     "source": [
      "<h1>Lab 6: Numerical Integration</h1>\n",
      "<h2>Physics 102 - Fall 2014</h2>\n",
      "\n",
      "<h4>Learning Objectives:</h4>\n",
      "At the end of this lab, you will be able to:\n",
      "<ul>\n",
      "    <li>Numerically integrate functions in Python.</li>\n",
      "    <li>Define systems of differential equations in Python.</li>\n",
      "    <li>Solve systems of differential equations numerically in Python.</li>\n",
      "    <li>Make animations using helper code.</li>\n",
      "</ul> "
     ]
    },
    {
     "cell_type": "markdown",
     "metadata": {},
     "source": [
      "<h3>Numerical Integration</h3>"
     ]
    },
    {
     "cell_type": "markdown",
     "metadata": {},
     "source": [
      "While there is a library for <a href='http://sympy.org/en/index.html'>symbolic integration</a>, we are going to focus on <a href='http://en.wikipedia.org/wiki/Numerical_integration'>numerical integration</a>. Numerical integration techniques are somewhat limiting because they can only be applied to definite integrals and all function parameters must be assigned numerical values. However, in some cases the anti-derivative may not have an explicit form or could be too complex to work with. "
     ]
    },
    {
     "cell_type": "markdown",
     "metadata": {},
     "source": [
      "Rather than have you write routines for <a href='http://en.wikipedia.org/wiki/Riemann_sum'>Riemann sums</a> or the <a href='http://en.wikipedia.org/wiki/Trapezoidal_rule'>Trapezoidal rule</a>, we will just use the builtin routines. For most integration problems, the <a href='http://docs.scipy.org/doc/scipy-0.14.0/reference/generated/scipy.integrate.quad.html'><code>quad</code></a> routine in the SciPy library will work just fine."
     ]
    },
    {
     "cell_type": "code",
     "collapsed": false,
     "input": [
      "import numpy as np\n",
      "import scipy.integrate as integrate\n",
      "\n",
      "def func(x):\n",
      "    return x**2\n",
      "\n",
      "print integrate.quad(func, 0, 10)\n",
      "print 1./3.*10**2 - 0"
     ],
     "language": "python",
     "metadata": {},
     "outputs": []
    },
    {
     "cell_type": "markdown",
     "metadata": {},
     "source": [
      "<code>quad</code> takes a function, and two limits. It returns a tuple containing the numerical value of the integral along with an estimate of the error. If you need to pass arguments to the function you can do so with the keyword argument <code>args</code>."
     ]
    },
    {
     "cell_type": "code",
     "collapsed": false,
     "input": [
      "def power(x, a):\n",
      "    return x**a\n",
      "\n",
      "integrate.quad(power, 0, 10, args=(2))"
     ],
     "language": "python",
     "metadata": {},
     "outputs": []
    },
    {
     "cell_type": "markdown",
     "metadata": {},
     "source": [
      "Rather than defining a bunch of functions, python has a method for creating simple, anonymous, functions."
     ]
    },
    {
     "cell_type": "code",
     "collapsed": false,
     "input": [
      "integrate.quad(lambda x: x**2, 0, 10)"
     ],
     "language": "python",
     "metadata": {},
     "outputs": []
    },
    {
     "cell_type": "markdown",
     "metadata": {},
     "source": [
      "The syntax for these functions is:\n",
      "<code>\n",
      "lambda (arguments): (expression)\n",
      "</code>\n",
      "Here are some examples."
     ]
    },
    {
     "cell_type": "code",
     "collapsed": false,
     "input": [
      "lambda a, b: a + b # Add a and b\n",
      "lambda x, A: A*np.exp(x) # Exponential function\n",
      "lambda x, m, b: m*x + b # A line with slope m and intercept b"
     ],
     "language": "python",
     "metadata": {},
     "outputs": []
    },
    {
     "cell_type": "markdown",
     "metadata": {},
     "source": [
      "We can even get an estimate for the integral of a very difficult function."
     ]
    },
    {
     "cell_type": "code",
     "collapsed": false,
     "input": [
      "integrate.quad(lambda x: np.sin(1/x), 0, 1, epsabs=0.0001, limit=500)\n",
      "\n",
      "# The extra arguments are necessary because the function is so \n",
      "# difficult. epsabs=0.0001 defines the level of accuracy needed.\n",
      "# limit=500 defines the number of refinements that quad will attempt"
     ],
     "language": "python",
     "metadata": {},
     "outputs": []
    },
    {
     "cell_type": "markdown",
     "metadata": {},
     "source": [
      "<h3>Solving Differential Equations Numerically</h3>"
     ]
    },
    {
     "cell_type": "markdown",
     "metadata": {},
     "source": [
      "The most common use for numerical integration in physics is solving systems of ordinary differential equations. Almost every law of physics is written as a differential equation and most of computational physics has focused on solving these equations. There are books and whole classes devoted to solving differential equations numerically. Rather than have you write numerical integrators, we are going to use numerical integration libraries to look at actual physical systems. "
     ]
    },
    {
     "cell_type": "markdown",
     "metadata": {},
     "source": [
      "<h4>1D</h4>"
     ]
    },
    {
     "cell_type": "markdown",
     "metadata": {},
     "source": [
      "We will start with just a single 1D differential equation.\n",
      "\n",
      "$$\\frac{\\mathrm{d} x}{\\mathrm{d}t} = a x$$"
     ]
    },
    {
     "cell_type": "markdown",
     "metadata": {},
     "source": [
      "First, we define the derivative as a function of position and time."
     ]
    },
    {
     "cell_type": "code",
     "collapsed": false,
     "input": [
      "def dx(x, t):\n",
      "    return 2.0*x "
     ],
     "language": "python",
     "metadata": {},
     "outputs": []
    },
    {
     "cell_type": "markdown",
     "metadata": {},
     "source": [
      "Next, we define the initial conditions."
     ]
    },
    {
     "cell_type": "code",
     "collapsed": false,
     "input": [
      "x0 = 0.5"
     ],
     "language": "python",
     "metadata": {},
     "outputs": []
    },
    {
     "cell_type": "markdown",
     "metadata": {},
     "source": [
      "We then define an array of times $t$ that we would like to know the value of $x$ at."
     ]
    },
    {
     "cell_type": "code",
     "collapsed": false,
     "input": [
      "t = np.linspace(0, 10, 100)"
     ],
     "language": "python",
     "metadata": {},
     "outputs": []
    },
    {
     "cell_type": "markdown",
     "metadata": {},
     "source": [
      "Using: 1. the differential equation, 2. the initial conditions, and 3. the array of times, we can solve the differential equation."
     ]
    },
    {
     "cell_type": "code",
     "collapsed": false,
     "input": [
      "x = integrate.odeint(dx, x0, t)\n",
      "\n",
      "%matplotlib inline\n",
      "import matplotlib.pyplot as plt\n",
      "\n",
      "plt.plot(t, x)\n",
      "plt.xlabel('t')\n",
      "plt.ylabel('x')"
     ],
     "language": "python",
     "metadata": {},
     "outputs": []
    },
    {
     "cell_type": "markdown",
     "metadata": {},
     "source": [
      "<h4>2d</h4>"
     ]
    },
    {
     "cell_type": "markdown",
     "metadata": {},
     "source": [
      "Because of Newton's Second Law,\n",
      "\n",
      "$$ F = m a = m \\frac{\\mathrm{d}^2x}{\\mathrm{d}t^2}$$\n",
      "\n",
      "the majority of differential equations equations that we want to solve are second-order partial differential equations. We can convert these to a system of first order ODE's, by treating the velocity as an independent variable\n",
      "\n",
      "$$ \\frac{F}{m} = \\frac{\\mathrm{d}v}{\\mathrm{d}t}$$\n",
      "$$ v = \\frac{\\mathrm{d}x}{\\mathrm{d}t}$$"
     ]
    },
    {
     "cell_type": "markdown",
     "metadata": {},
     "source": [
      "One of the most commonly studied second order differential equation is the equation for a pendulum\n",
      "\n",
      "$$ \\frac{\\mathrm{d}^2 \\theta} {\\mathrm{d} t^2} = -\\frac{g}{l}\\sin{\\theta}$$\n",
      "\n",
      "where $\\theta$ is the angle between the pendulum and vertical, g is Newton's gravitational constant, and $l$ is the length of the pendulum."
     ]
    },
    {
     "cell_type": "markdown",
     "metadata": {},
     "source": [
      "At this point, we typically make the approximation $\\sin \\theta \\approx \\theta$ for small angles and get oscillations ($\\sin$ and $\\cos$) with constant period. Because we using numerical techniques, it is not necessary to make this approximation."
     ]
    },
    {
     "cell_type": "markdown",
     "metadata": {},
     "source": [
      "First we need to rewrite, the second order differential equation as a system of first-order equations.\n",
      "\n",
      "$$ \\frac{\\mathrm{d} \\theta} {\\mathrm{d} t} = v_{\\theta}$$\n",
      "$$ \\frac{\\mathrm{d} v_{\\theta}} {\\mathrm{d} t} = -\\frac{g}{l}\\sin{\\theta}$$"
     ]
    },
    {
     "cell_type": "markdown",
     "metadata": {},
     "source": [
      "We need to write these equations as a function with the follsing form\n",
      "\n",
      "$$ \\left(\\frac{\\mathrm{d} \\theta} {\\mathrm{d} t}, \\frac{\\mathrm{d} v_{\\theta}} {\\mathrm{d} t}\\right) = f \\left[ \\left( \\theta, v_{\\theta} \\right) \\right] $$"
     ]
    },
    {
     "cell_type": "markdown",
     "metadata": {},
     "source": [
      "The variables and their time derivatives can either be in a list or a tuple."
     ]
    },
    {
     "cell_type": "code",
     "collapsed": false,
     "input": [
      "def diff_sys(variables, t):\n",
      "    g = 9.8\n",
      "    l = 1.\n",
      "    theta = variables[0]\n",
      "    v_theta = variables[1]\n",
      "    return (v_theta, -g/l*np.sin(theta))"
     ],
     "language": "python",
     "metadata": {},
     "outputs": []
    },
    {
     "cell_type": "markdown",
     "metadata": {},
     "source": [
      "This function takes a tuple containing the variables, it returns a tuple containing the time derivatives as a function of the variables."
     ]
    },
    {
     "cell_type": "markdown",
     "metadata": {},
     "source": [
      "We then need to define the initial conditions."
     ]
    },
    {
     "cell_type": "code",
     "collapsed": false,
     "input": [
      "init_cond = (np.pi/2.0, 0) # theta=pi/2, v_theta=0"
     ],
     "language": "python",
     "metadata": {},
     "outputs": []
    },
    {
     "cell_type": "markdown",
     "metadata": {},
     "source": [
      "We define an array for the times that we want to know the solution for."
     ]
    },
    {
     "cell_type": "code",
     "collapsed": false,
     "input": [
      "times = np.linspace(0, 10, 100)"
     ],
     "language": "python",
     "metadata": {},
     "outputs": []
    },
    {
     "cell_type": "markdown",
     "metadata": {},
     "source": [
      "Now we can solve the system of equations"
     ]
    },
    {
     "cell_type": "code",
     "collapsed": false,
     "input": [
      "sols = integrate.odeint(diff_sys, init_cond, times)"
     ],
     "language": "python",
     "metadata": {},
     "outputs": []
    },
    {
     "cell_type": "markdown",
     "metadata": {},
     "source": [
      "We can plot the solutions."
     ]
    },
    {
     "cell_type": "code",
     "collapsed": false,
     "input": [
      "plt.plot(times, sols[:,0])\n",
      "plt.xlabel('t')\n",
      "plt.ylabel('theta')"
     ],
     "language": "python",
     "metadata": {},
     "outputs": []
    },
    {
     "cell_type": "code",
     "collapsed": false,
     "input": [
      "plt.plot(times, sols[:,1])\n",
      "plt.xlabel('t')\n",
      "plt.ylabel('v_theta')\n",
      "plt.show()"
     ],
     "language": "python",
     "metadata": {},
     "outputs": []
    },
    {
     "cell_type": "markdown",
     "metadata": {},
     "source": [
      "<h4>Nd</h4>"
     ]
    },
    {
     "cell_type": "markdown",
     "metadata": {},
     "source": [
      "This same techniques can be used to solve any system of differential equations that can be written as:\n",
      "\n",
      "$$\\frac{\\mathrm{d}x_1}{\\mathrm{d}t} = f_1\\left(x_1, x_2, x_3, \\ldots , x_N, t, \\right)$$\n",
      "$$\\frac{\\mathrm{d}x_2}{\\mathrm{d}t} = f_2\\left(x_1, x_2, x_3, \\ldots , x_N, t, \\right)$$\n",
      "$$\\frac{\\mathrm{d}x_3}{\\mathrm{d}t} = f_3\\left(x_1, x_2, x_3, \\ldots , x_N, t, \\right)$$\n",
      "$$ \\vdots$$\n",
      "$$\\frac{\\mathrm{d}x_N}{\\mathrm{d}t} = f_N\\left(x_1, x_2, x_3, \\ldots , x_N, t, \\right)$$"
     ]
    },
    {
     "cell_type": "markdown",
     "metadata": {},
     "source": [
      "<h3>Visualizing Our Solution</h3>"
     ]
    },
    {
     "cell_type": "markdown",
     "metadata": {},
     "source": [
      "Obtaining a solution for motion of the pendulum is great but we would like to visualize the solution. Ideally we would like to animate the solution. Matplotlib contains some routines for animation, but they are a little difficult so I am giving you some helper functions that should do most of the work for you."
     ]
    },
    {
     "cell_type": "markdown",
     "metadata": {},
     "source": [
      "Because of incompatibilities with different operating systems, IPython and animation do not play well together. Rather than trying to make it work, we are going to run the code from the terminal (command prompt, anaconda command prompt, etc.). Open  a terminal window in the same directory as the IPython notebook and run the following command.\n",
      "\n",
      "<code>python pendulum.py</code>"
     ]
    },
    {
     "cell_type": "markdown",
     "metadata": {},
     "source": [
      "This should open an interactive window that displays the animation. It should play unitl you close the window. If not, talk to Karen or me to see if we can get it working."
     ]
    },
    {
     "cell_type": "markdown",
     "metadata": {},
     "source": [
      "Animations are very valuable visualization tools, but are not the easiest to work with. To make things easier, I have included some helper functions for the exercise that should make it more manageable."
     ]
    },
    {
     "cell_type": "markdown",
     "metadata": {},
     "source": [
      "<h2>Exercise: Double Pendulum</h2>"
     ]
    },
    {
     "cell_type": "markdown",
     "metadata": {},
     "source": [
      "<img src=\"files/double_pendulum.svg\" width=500>"
     ]
    },
    {
     "cell_type": "markdown",
     "metadata": {},
     "source": [
      "A double pendulum is one of the simplest examples of a chaotic system (a system that sensitive to initial conditions). The goal of this exercise is to create an animation of the future motion of the two pendulums given the initial conditions. In this case we will assume that the two rods have the same length and mass. Additionally we will assume the mass is distributed uniformly along the lengths of the rods."
     ]
    },
    {
     "cell_type": "markdown",
     "metadata": {},
     "source": [
      "The differential equations describing this system are:\n",
      "\n",
      "$$ \\frac{\\mathrm{d} \\theta_1}{\\mathrm{d} t} = \\dot{\\theta}_1 = \\frac{6}{m l^2} \\frac{2 p_{\\theta_1} - 3\\cos\\left(\\theta_1 - \\theta_2\\right) p_{\\theta_2}}{16-9 \\cos^2\\left(\\theta_1 - \\theta_2\\right)} $$\n",
      "$$ \\frac{\\mathrm{d} \\theta_2}{\\mathrm{d} t} = \\dot{\\theta}_2 = \\frac{6}{m l^2} \\frac{8 p_{\\theta_2} - 3\\cos\\left(\\theta_1 - \\theta_2\\right) p_{\\theta_1}}{16-9 \\cos^2\\left(\\theta_1 - \\theta_2\\right)} $$\n",
      "$$\\frac{\\mathrm{d} p_{\\theta_1}}{\\mathrm{d} t} = \\dot{p}_{\\theta_1} = -\\frac{1}{2} m l^2\\left[ \\dot{\\theta}_1 \\dot{\\theta}_2 \\sin\\left(\\theta_1 - \\theta_2\\right) + 3 \\frac{g}{l} \\sin \\theta_1 \\right]$$\n",
      "$$\\frac{\\mathrm{d} p_{\\theta_2}}{\\mathrm{d} t} = \\dot{p}_{\\theta_2} = -\\frac{1}{2} m l^2 \\left[-\\dot{\\theta}_1 \\dot{\\theta}_2 \\sin\\left(\\theta_1 - \\theta_2\\right) + \\frac{g}{l} \\sin \\theta_2 \\right]$$"
     ]
    },
    {
     "cell_type": "markdown",
     "metadata": {},
     "source": [
      "The goal of the exercises this week is to create an animation of the double pendulum. The exercises will walk you through the steps necessary to make this animation. At each step, I have included some tests, that will allow you to verify your code."
     ]
    },
    {
     "cell_type": "code",
     "collapsed": false,
     "input": [
      "import lab_6\n",
      "import numpy as np"
     ],
     "language": "python",
     "metadata": {},
     "outputs": [],
     "prompt_number": 5
    },
    {
     "cell_type": "markdown",
     "metadata": {},
     "source": [
      "<h3>Exercise 1</h3>"
     ]
    },
    {
     "cell_type": "markdown",
     "metadata": {},
     "source": [
      "The first step in solving this problem is writing these equations as Python functions. Unless you are very careful, this will likely be an exercise in debugging. To make sure that you have the correct functions, I have included some test cases."
     ]
    },
    {
     "cell_type": "code",
     "collapsed": false,
     "input": [
      "reload(lab_6)\n",
      "\n",
      "if np.absolute(lab_6.theta_1_dot(1.0, 2.0, 3.0, 4.0) - -0.21699242010367223) < 10**(-12):\n",
      "    print 'theta_1_dot() test PASSED.'\n",
      "else:\n",
      "    print 'theta_1_dot() test FAILED.'\n",
      "    \n",
      "if np.absolute(lab_6.theta_2_dot(1.0, 2.0, 3.0, 4.0) - 12.175862257406884) < 10**(-12):\n",
      "    print 'theta_2_dot() test PASSED.'\n",
      "else:\n",
      "    print 'theta_2_dot() test FAILED.'\n",
      "\n",
      "if np.absolute(lab_6.p_theta_1_dot(1.0, 2.0, 3.0, 4.0) - -13.481236022553126) < 10**(-12):\n",
      "    print 'theta_2_dot() test PASSED.'\n",
      "else:\n",
      "    print 'theta_2_dot() test FAILED.' \n",
      "    \n",
      "if np.absolute(lab_6.p_theta_2_dot(1.0, 2.0, 3.0, 4.0) - -3.3439448455687932) < 10**(-12):\n",
      "    print 'theta_2_dot() test PASSED.'\n",
      "else:\n",
      "    print 'theta_2_dot() test FAILED.' "
     ],
     "language": "python",
     "metadata": {},
     "outputs": [
      {
       "output_type": "stream",
       "stream": "stdout",
       "text": [
        "theta_1_dot() test PASSED.\n",
        "theta_2_dot() test PASSED.\n",
        "theta_2_dot() test PASSED."
       ]
      },
      {
       "output_type": "stream",
       "stream": "stdout",
       "text": [
        "\n",
        "theta_2_dot() test PASSED.\n"
       ]
      }
     ],
     "prompt_number": 6
    },
    {
     "cell_type": "markdown",
     "metadata": {},
     "source": [
      "<h3>Exercise 2</h3>"
     ]
    },
    {
     "cell_type": "markdown",
     "metadata": {},
     "source": [
      "Now that you have the individual differential equations defined as functions, you need to create a function which takes the variables as an array and the current time, and returns the current time derivatives as an array."
     ]
    },
    {
     "cell_type": "code",
     "collapsed": false,
     "input": [
      "reload(lab_6)\n",
      "\n",
      "values = [-0.21699242010367223, 12.175862257406884, -13.481236022553126, -3.3439448455687932]\n",
      "\n",
      "if np.allclose(lab_6.diff_system([1.0, 2.0, 3.0, 4.0], 0), values):\n",
      "    print 'diff_system() test PASSED.'\n",
      "else:\n",
      "    print 'diff_system() test FAILED.' "
     ],
     "language": "python",
     "metadata": {},
     "outputs": [
      {
       "output_type": "stream",
       "stream": "stdout",
       "text": [
        "diff_system() test PASSED.\n"
       ]
      }
     ],
     "prompt_number": 7
    },
    {
     "cell_type": "markdown",
     "metadata": {},
     "source": [
      "<h3>Exercise 3</h3>"
     ]
    },
    {
     "cell_type": "markdown",
     "metadata": {},
     "source": [
      "Now that we have the system of differential equations defined, we need to solve them. In order to solve them numerically, we need initial conditions and a time array. For simplicity, we will assume that the pendulums are initially at rest ($\\dot{p}_{\\theta_1}\\left(t=0\\right) = 0$ and $\\dot{p}_{\\theta_2}\\left(t=0\\right) = 0$). This leaves only two initial conditions that need to be specified ($\\theta_1\\left(t=0\\right)$ and $\\theta_2\\left(t=0\\right)$). For the time array, we will create an array that goes from zero to a specified number of seconds, with 60 values per second (this is a typical frame rate for high frame rate video)."
     ]
    },
    {
     "cell_type": "markdown",
     "metadata": {},
     "source": [
      "The goal of this exercise is to write a function which takes the two initial conditions (the initial angles of the pendulums) as floats. The function also takes the total length of time in seconds that the solution should run. The function should take these arguments and: 1. create an array with the correct initial conditions, 2. create a time array that runs from 0 to x number of seconds with a length of $60 x$, 3. use those arrays to compute the numerical solution to the system of differential equations. The function should return a tuple containing the array of solutions and an array of times."
     ]
    },
    {
     "cell_type": "code",
     "collapsed": false,
     "input": [
      "reload(lab_6)\n",
      "\n",
      "sol = [[ 0.25, 0.25, 0., 0.],\n",
      "       [ 0.24902729, 0.25032231, -0.09080545, -0.03031977],\n",
      "       [ 0.24612645, 0.25126045, -0.18092015, -0.06071471]]\n",
      "\n",
      "times = np.array([ 0.   ,  0.025,  0.05 ])\n",
      "\n",
      "if (np.allclose(lab_6.solve_system(0.25, 0.25, 0.05)[0], sol) and\n",
      "    np.allclose(lab_6.solve_system(0.25, 0.25, 0.05)[1] , times)):\n",
      "    print 'diff_system() test PASSED.'\n",
      "else:\n",
      "    print 'diff_system() test FAILED.'"
     ],
     "language": "python",
     "metadata": {},
     "outputs": [
      {
       "output_type": "stream",
       "stream": "stdout",
       "text": [
        "diff_system() test PASSED.\n"
       ]
      }
     ],
     "prompt_number": 9
    },
    {
     "cell_type": "markdown",
     "metadata": {},
     "source": [
      "<h3>Exercise 4</h3>"
     ]
    },
    {
     "cell_type": "markdown",
     "metadata": {},
     "source": [
      "Included in the library for this weeks exercises is some helper code to make an animation of your solution. The helper function takes three arrays as arguments: 1. the solutions for theta_1, 2. the solutions for theta_2, and 3. the array of times. For this exercise you need to write a function that takes initial angles and total length of time (same arguments as Exercise 3). The function should calculate the solution to the differential equation using your code from Exercise 3. You then pass, the solutions to the helper function to make a plot. I will include a sample animation with the assignment so you can check your work. "
     ]
    },
    {
     "cell_type": "markdown",
     "metadata": {},
     "source": [
      "In order to get the animation to work you will need to open up a terminal/command prompt. Run <code>python</code> to bring up the python command prompt (<code> >>> </code>). At the command prompt, load the library and run the animation function.\n",
      "\n",
      "<code>>>>import lab_6</code>\n",
      "\n",
      "<code>>>>lab_6.make_animation(3.0, 4.0, 40)</code>\n",
      "\n",
      "\n",
      "You can compare this animation to the one posted on SmartSite."
     ]
    }
   ],
   "metadata": {}
  }
 ]
}