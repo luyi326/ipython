{
 "metadata": {
  "name": ""
 },
 "nbformat": 3,
 "nbformat_minor": 0,
 "worksheets": [
  {
   "cells": [
    {
     "cell_type": "markdown",
     "metadata": {},
     "source": [
      "<h1>Lab 7: Simulation</h1>\n",
      "<h2>Physics 102 - Fall 2014</h2>\n",
      "\n",
      "<h4>Learning Objectives:</h4>\n",
      "At the end of this lab, you will be able to:\n",
      "<ul>\n",
      "    <li>Create random-walk simulations.</li>\n",
      "    <li>Modify simulations to produce flocking behavior.</li>\n",
      "</ul> "
     ]
    },
    {
     "cell_type": "markdown",
     "metadata": {},
     "source": [
      "<h3>Simulation</h3>"
     ]
    },
    {
     "cell_type": "markdown",
     "metadata": {},
     "source": [
      "\"A computer simulation or a computer model is a computer program that attempts to simulate an abstract model of a particular system.\n",
      "\n",
      "Computer simulations have become a useful part of mathematical modeling of many natural systems in physics, chemistry and biology, human systems in economics, psychology, and social science and in the process of engineering new technology, to gain insight into the operation of those systems.\n",
      "\n",
      "Traditionally, the formal modeling of systems has been via a mathematical model, which attempts to find analytical solutions to problems which enables the prediction of the behavior of the system from a set of parameters and initial conditions.\n",
      "\n",
      "Computer simulations build on, and are a useful adjunct to purely mathematical models in science, technology and entertainment.\n",
      "\n",
      "The reliability and the trust people put in computer simulations depends on the validity of the simulation model.\"\n",
      "\n",
      "www.sciencedaily.com\n"
     ]
    },
    {
     "cell_type": "markdown",
     "metadata": {},
     "source": [
      "<h4>Brownian Motion</h4>"
     ]
    },
    {
     "cell_type": "markdown",
     "metadata": {},
     "source": [
      "The first system we will model is <a href='http://en.wikipedia.org/wiki/Brownian_motion'>Brownian motion</a>. Brownian motions is typically modeled using a <a href='http://en.wikipedia.org/wiki/Random_walk'>random walk</a>. In one-dimension, you can think of the particle starting at the origin of a number line and moving randomly to the left or the right. The distance the particle moves is drawn from some <a href='http://en.wikipedia.org/wiki/List_of_probability_distributions'>distribution</a>, typically a <a href='http://en.wikipedia.org/wiki/Normal_distribution'>gaussian distribution</a>. We then look at the particle's position as a function of time. The following code implements the simulation for 1000 steps."
     ]
    },
    {
     "cell_type": "code",
     "collapsed": false,
     "input": [
      "%matplotlib inline\n",
      "\n",
      "# Import required libraries\n",
      "import numpy as np\n",
      "import matplotlib.pyplot as plt\n",
      "from random import gauss\n",
      "\n",
      "# Specify total number of steps\n",
      "N = 1000\n",
      "\n",
      "# Arrays for positions and times\n",
      "positions = np.zeros(N)\n",
      "times = np.arange(N)\n",
      "\n",
      "# Carry out the simulation\n",
      "for time in times[1:]: # For all times greater than 1\n",
      "    positions[time] = positions[time-1] + gauss(0, 1) # Add a random Gaussian step to the current position\n",
      "\n",
      "plt.plot(times, positions)\n",
      "plt.xlabel('time')\n",
      "plt.ylabel('position')\n",
      "plt.title('Gaussian Random Walk')"
     ],
     "language": "python",
     "metadata": {},
     "outputs": []
    },
    {
     "cell_type": "markdown",
     "metadata": {},
     "source": [
      "If you run this simulation multiple times, you get different results. We would like to understand the statistics of the different results. Of particular interest is the average distance traveled after N steps. In order to answer this question, it can be helpful to write our simulation as a <a href='https://docs.python.org/2/tutorial/classes.html'>class</a>. You can think of a class as a collection of data and functions. This is not intended to be a complete introduction to classes, but should give you enough background to complete the exercises. "
     ]
    },
    {
     "cell_type": "markdown",
     "metadata": {},
     "source": [
      "The syntax for defining a class is similar to that of loops, and functions."
     ]
    },
    {
     "cell_type": "code",
     "collapsed": false,
     "input": [
      "class gaussian_random_walk:\n",
      "    \"\"\"A random walk with gaussian steps\"\"\"\n",
      "    \n",
      "    # This function is called when an object is created\n",
      "    def __init__(self, N):\n",
      "        # These variables are unique to each instance of this class\n",
      "        self.N = N\n",
      "        self.positions = np.zeros(N)\n",
      "        self.times = np.arange(N)\n",
      "    \n",
      "    # Methods\n",
      "    # Carry out simulation\n",
      "    def simulate(self):        \n",
      "        for time in self.times[1:]:\n",
      "            self.positions[time] = self.positions[time-1] + gauss(0, 1)\n",
      "        return\n",
      "    \n",
      "    # Make a plot of simulation\n",
      "    def make_plot(self):\n",
      "        plt.plot(self.times, self.positions)\n",
      "        plt.xlabel('time')\n",
      "        plt.ylabel('position')\n",
      "        plt.title('Gaussian Random Walk')\n",
      "        return"
     ],
     "language": "python",
     "metadata": {},
     "outputs": []
    },
    {
     "cell_type": "markdown",
     "metadata": {},
     "source": [
      "Now that we have the simulation defined, we can create an instance of the simulation and run our simulation."
     ]
    },
    {
     "cell_type": "code",
     "collapsed": false,
     "input": [
      "instance_1 = gaussian_random_walk(1000)\n",
      "\n",
      "instance_1.simulate()\n",
      "instance_1.make_plot()"
     ],
     "language": "python",
     "metadata": {},
     "outputs": []
    },
    {
     "cell_type": "markdown",
     "metadata": {},
     "source": [
      "Because we have defined our simulation as a class, we can create multiple instances and keep the data separate."
     ]
    },
    {
     "cell_type": "code",
     "collapsed": false,
     "input": [
      "instance_2 = gaussian_random_walk(1000)\n",
      "\n",
      "instance_2.simulate()\n",
      "\n",
      "# New instance\n",
      "instance_2.make_plot()"
     ],
     "language": "python",
     "metadata": {},
     "outputs": []
    },
    {
     "cell_type": "code",
     "collapsed": false,
     "input": [
      "# Old instance\n",
      "instance_1.make_plot()"
     ],
     "language": "python",
     "metadata": {},
     "outputs": []
    },
    {
     "cell_type": "markdown",
     "metadata": {},
     "source": [
      "Because our simulation is defined in a class, it is easier to make changes."
     ]
    },
    {
     "cell_type": "code",
     "collapsed": false,
     "input": [
      "# Changing the gaussian parameters\n",
      "\n",
      "class biased_gaussian_random_walk:\n",
      "    \"\"\"A random walk with gaussian steps\"\"\"\n",
      "    \n",
      "    # This function is called when an object is created\n",
      "    def __init__(self, N):\n",
      "        # These variables are unique to each instance of this class\n",
      "        self.N = N\n",
      "        self.positions = np.zeros(N)\n",
      "        self.times = np.arange(N)\n",
      "    \n",
      "    # Methods\n",
      "    # Carry out simulation\n",
      "    def simulate(self):        \n",
      "        for time in self.times[1:]:\n",
      "            self.positions[time] = self.positions[time-1] + gauss(0.05, 3)\n",
      "        return\n",
      "    \n",
      "    # Make a plot of simulation\n",
      "    def make_plot(self):\n",
      "        plt.plot(self.times, self.positions)\n",
      "        plt.xlabel('time')\n",
      "        plt.ylabel('position')\n",
      "        plt.title('Gaussian Random Walk')\n",
      "        return\n",
      "\n",
      "instance = biased_gaussian_random_walk(10000)\n",
      "\n",
      "instance.simulate()\n",
      "instance.make_plot()"
     ],
     "language": "python",
     "metadata": {},
     "outputs": []
    },
    {
     "cell_type": "code",
     "collapsed": false,
     "input": [
      "from random import random\n",
      "from random import weibullvariate\n",
      "\n",
      "# Using a Weibull distribution\n",
      "class weibull_random_walk:\n",
      "    \"\"\"A random walk with gaussian steps\"\"\"\n",
      "    \n",
      "    # This function is called when an object is created\n",
      "    def __init__(self, N):\n",
      "        # These variables are unique to each instance of this class\n",
      "        self.N = N\n",
      "        self.positions = np.zeros(N)\n",
      "        self.times = np.arange(N)\n",
      "    \n",
      "    # Methods\n",
      "    # Carry out simulation\n",
      "    def simulate(self):        \n",
      "        for time in self.times[1:]:\n",
      "            if random() < 0.505:\n",
      "                self.positions[time] = self.positions[time-1] + weibullvariate(1, 1.25)\n",
      "            else:\n",
      "                self.positions[time] = self.positions[time-1] - weibullvariate(1, 1.25)\n",
      "        return\n",
      "    \n",
      "    # Make a plot of simulation\n",
      "    def make_plot(self):\n",
      "        plt.plot(self.times, self.positions)\n",
      "        plt.xlabel('time')\n",
      "        plt.ylabel('position')\n",
      "        plt.title('Gaussian Random Walk')\n",
      "        return\n",
      "\n",
      "instance = weibull_random_walk(10000)\n",
      "\n",
      "instance.simulate()\n",
      "instance.make_plot()"
     ],
     "language": "python",
     "metadata": {},
     "outputs": []
    },
    {
     "cell_type": "markdown",
     "metadata": {},
     "source": [
      "With the simulation in a class, we can now look at the statistics of different realizations."
     ]
    },
    {
     "cell_type": "code",
     "collapsed": false,
     "input": [
      "number_of_realizations = 1000\n",
      "length_of_runs = 1000\n",
      "\n",
      "realizations = np.zeros((number_of_realizations, length_of_runs))\n",
      "\n",
      "for i in xrange(0, number_of_realizations):\n",
      "    realization = gaussian_random_walk(length_of_runs)\n",
      "    realization.simulate()\n",
      "    \n",
      "    realizations[i] = realization.positions\n",
      "    \n",
      "\n",
      "distances_from_zero = np.absolute(realizations)\n",
      "\n",
      "avg_dists_from_zero = np.mean(distances_from_zero, axis=0)\n",
      "\n",
      "times = np.arange(length_of_runs)\n",
      "\n",
      "plt.plot(times, avg_dists_from_zero, label='Simulation')\n",
      "plt.plot(times, np.sqrt(2*times/np.pi), label='Square root')\n",
      "plt.xlabel('time')\n",
      "plt.ylabel('average distance from origin')\n",
      "plt.legend(loc=2)"
     ],
     "language": "python",
     "metadata": {},
     "outputs": []
    },
    {
     "cell_type": "code",
     "collapsed": false,
     "input": [
      "number_of_realizations = 1000\n",
      "length_of_runs = 1000\n",
      "\n",
      "realizations = np.zeros((number_of_realizations, length_of_runs))\n",
      "\n",
      "for i in xrange(0, number_of_realizations):\n",
      "    realization = weibull_random_walk(length_of_runs)\n",
      "    realization.simulate()\n",
      "    \n",
      "    realizations[i] = realization.positions\n",
      "    \n",
      "\n",
      "distances_from_zero = np.absolute(realizations)\n",
      "\n",
      "avg_dists_from_zero = np.mean(distances_from_zero, axis=0)\n",
      "\n",
      "times = np.arange(length_of_runs)\n",
      "\n",
      "plt.plot(times, avg_dists_from_zero, label='Simulation')\n",
      "plt.plot(times, np.sqrt(2*times/np.pi), label='Square root')\n",
      "plt.xlabel('time')\n",
      "plt.ylabel('average distance from origin')\n",
      "plt.legend(loc=2)"
     ],
     "language": "python",
     "metadata": {},
     "outputs": []
    }
   ],
   "metadata": {}
  }
 ]
}