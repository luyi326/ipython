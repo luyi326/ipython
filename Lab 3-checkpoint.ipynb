{
 "metadata": {
  "name": ""
 },
 "nbformat": 3,
 "nbformat_minor": 0,
 "worksheets": [
  {
   "cells": [
    {
     "cell_type": "markdown",
     "metadata": {},
     "source": [
      "<h1>Lab 3: Linear Algebra and Plotting</h1>\n",
      "<h2>Physics 102 - Fall 2014</h2>\n",
      "\n",
      "<h4>Learning Objectives:</h4>\n",
      "At the end of this lab, you will be able to:\n",
      "<ul>\n",
      "    <li>Create matrices in Python.</li>\n",
      "    <li>Perform basic linear algebra calculations in Python.</li>\n",
      "    <li>Create plots using Matplotlib.</li>\n",
      "    <li>Edit plots to effectively communicate ideas.</li>\n",
      "</ul> "
     ]
    },
    {
     "cell_type": "markdown",
     "metadata": {},
     "source": [
      "<h3> Linear Algebra</h3>"
     ]
    },
    {
     "cell_type": "markdown",
     "metadata": {},
     "source": [
      "Last week we covered basic NumPy. This week we are going to learn about the linear algebra routines built-in to NumPy. NumPy comes with a built-in matrix object that behaves exactly the way we would expect a matrix to behave. We can declare a matrix using a list of lists, a NumPy array, or a string."
     ]
    },
    {
     "cell_type": "code",
     "collapsed": false,
     "input": [
      "import numpy as np"
     ],
     "language": "python",
     "metadata": {},
     "outputs": []
    },
    {
     "cell_type": "code",
     "collapsed": false,
     "input": [
      "A = np.mat([[1., 2.], [3., 4.]])\n",
      "\n",
      "b = np.array([[1., 2.], [5., 7.]])\n",
      "\n",
      "print \"b is a \", type(b)\n",
      "\n",
      "B = np.mat(b)\n",
      "\n",
      "print \"B is a \", type(B)\n",
      "\n",
      "C = np.mat('3., 4.; 1., 1.')"
     ],
     "language": "python",
     "metadata": {},
     "outputs": []
    },
    {
     "cell_type": "markdown",
     "metadata": {},
     "source": [
      "Notice how \"b\" and \"B\" have different types. Also, when using strings, columns are separated by comma's and rows are separated by semi-colons."
     ]
    },
    {
     "cell_type": "code",
     "collapsed": false,
     "input": [
      "D = np.mat('1., 2., 3.; 0., 3., 2.')\n",
      "\n",
      "print D"
     ],
     "language": "python",
     "metadata": {},
     "outputs": []
    },
    {
     "cell_type": "markdown",
     "metadata": {},
     "source": [
      "NumPy has some built in ways of generating special kinds of NumPy arrays. These can be useful when creating matrices."
     ]
    },
    {
     "cell_type": "code",
     "collapsed": false,
     "input": [
      "I = np.mat(np.eye(2)) # Identity matrix\n",
      "\n",
      "print I"
     ],
     "language": "python",
     "metadata": {},
     "outputs": []
    },
    {
     "cell_type": "code",
     "collapsed": false,
     "input": [
      "I = np.mat(np.ones((2,2))) # Matrix of all ones\n",
      "\n",
      "print I"
     ],
     "language": "python",
     "metadata": {},
     "outputs": []
    },
    {
     "cell_type": "code",
     "collapsed": false,
     "input": [
      "I = np.mat(np.zeros((2,2))) # Matrix of all zeros\n",
      "\n",
      "print I"
     ],
     "language": "python",
     "metadata": {},
     "outputs": []
    },
    {
     "cell_type": "markdown",
     "metadata": {},
     "source": [
      "Notice how <code>np.eye(2)</code> only needs one number because identity matrices are always square. For <code>np.ones((2,2))</code> and <code>np.zeros(2,2))</code>, two numbers are needed to specify the numbers of rows and columns in the matrix."
     ]
    },
    {
     "cell_type": "markdown",
     "metadata": {},
     "source": [
      "The basic algebraic operations for matrices are defined to be what we would expect."
     ]
    },
    {
     "cell_type": "code",
     "collapsed": false,
     "input": [
      "A + I # Addition"
     ],
     "language": "python",
     "metadata": {},
     "outputs": []
    },
    {
     "cell_type": "code",
     "collapsed": false,
     "input": [
      "A - B # Subtraction"
     ],
     "language": "python",
     "metadata": {},
     "outputs": []
    },
    {
     "cell_type": "code",
     "collapsed": false,
     "input": [
      "A * D # Matrix Multiplication"
     ],
     "language": "python",
     "metadata": {},
     "outputs": []
    },
    {
     "cell_type": "code",
     "collapsed": false,
     "input": [
      "3.0*A # Scalar Multiplication"
     ],
     "language": "python",
     "metadata": {},
     "outputs": []
    },
    {
     "cell_type": "code",
     "collapsed": false,
     "input": [
      "A / C # Matrix Division ( A times C inverse)"
     ],
     "language": "python",
     "metadata": {},
     "outputs": []
    },
    {
     "cell_type": "code",
     "collapsed": false,
     "input": [
      "A /5. # Scalar Division"
     ],
     "language": "python",
     "metadata": {},
     "outputs": []
    },
    {
     "cell_type": "markdown",
     "metadata": {},
     "source": [
      "There is even a built in property for taking the transpose of a matrix."
     ]
    },
    {
     "cell_type": "code",
     "collapsed": false,
     "input": [
      "D.T"
     ],
     "language": "python",
     "metadata": {},
     "outputs": []
    },
    {
     "cell_type": "markdown",
     "metadata": {},
     "source": [
      "If your matrix is complex, you can take a conjugate(Hermitian) transpose"
     ]
    },
    {
     "cell_type": "code",
     "collapsed": false,
     "input": [
      "C = np.matrix('1+1j, 2-1j; 3j, -4')\n",
      "\n",
      "C.H"
     ],
     "language": "python",
     "metadata": {},
     "outputs": []
    },
    {
     "cell_type": "markdown",
     "metadata": {},
     "source": [
      "Note that when using complex numbers, Python uses j as the square-root of negative one, and you have to have a number in front of j for Python to interpret j as the square-root of negative one."
     ]
    },
    {
     "cell_type": "code",
     "collapsed": false,
     "input": [
      "j*j"
     ],
     "language": "python",
     "metadata": {},
     "outputs": []
    },
    {
     "cell_type": "code",
     "collapsed": false,
     "input": [
      "1j*1j"
     ],
     "language": "python",
     "metadata": {},
     "outputs": []
    },
    {
     "cell_type": "markdown",
     "metadata": {},
     "source": [
      "For more complicated matrix operations, we can import the linear algebra routines using"
     ]
    },
    {
     "cell_type": "code",
     "collapsed": false,
     "input": [
      "import numpy.linalg as linalg"
     ],
     "language": "python",
     "metadata": {},
     "outputs": []
    },
    {
     "cell_type": "markdown",
     "metadata": {},
     "source": [
      "There is a routine for calculating the inverse of a square matrix."
     ]
    },
    {
     "cell_type": "code",
     "collapsed": false,
     "input": [
      "A_inv = linalg.inv(A)\n",
      "\n",
      "print A_inv"
     ],
     "language": "python",
     "metadata": {},
     "outputs": []
    },
    {
     "cell_type": "markdown",
     "metadata": {},
     "source": [
      "Please not that floating point math may not be exact ($ A A^{-1} = I$)."
     ]
    },
    {
     "cell_type": "code",
     "collapsed": false,
     "input": [
      "A * A_inv"
     ],
     "language": "python",
     "metadata": {},
     "outputs": []
    },
    {
     "cell_type": "markdown",
     "metadata": {},
     "source": [
      "There is also a routine for solving a system of linear equations.\n",
      "\n",
      "$$ x+3 y + 5 z = 10 $$\n",
      "$$ 2x + 5y + z = 8 $$\n",
      "$$ 2x+3y+8z=3$$\n",
      "\n",
      "$$\\left[ \\begin{array}{ccc}\n",
      "1 & 3 & 5 \\\\\n",
      "2 & 5 & 1 \\\\\n",
      "2 & 3 & 8 \\end{array}\\right]\n",
      "\\left[ \\begin{array}{c}\n",
      "x \\\\ y \\\\ z \\end{array}\\right]\n",
      "= \\left[ \\begin{array}{c}\n",
      "10 \\\\ 8 \\\\ 3 \\end{array}\\right]$$"
     ]
    },
    {
     "cell_type": "code",
     "collapsed": false,
     "input": [
      "A = np.mat(\"1., 3., 5.; 2., 5., 1.; 2., 3., 8.\")\n",
      "\n",
      "b = np.mat(\"10.; 8.; 3.\")\n",
      "\n",
      "linalg.solve(A,b)"
     ],
     "language": "python",
     "metadata": {},
     "outputs": []
    },
    {
     "cell_type": "markdown",
     "metadata": {},
     "source": [
      "Please not that this is faster than using an inverse and is more accurate with floating point math."
     ]
    },
    {
     "cell_type": "code",
     "collapsed": false,
     "input": [
      "%%timeit\n",
      "\n",
      "linalg.solve(A,b)"
     ],
     "language": "python",
     "metadata": {},
     "outputs": []
    },
    {
     "cell_type": "code",
     "collapsed": false,
     "input": [
      "%%timeit\n",
      "\n",
      "linalg.inv(A)*b"
     ],
     "language": "python",
     "metadata": {},
     "outputs": []
    },
    {
     "cell_type": "markdown",
     "metadata": {},
     "source": [
      "There is also a routine for taking the determinant of a matrix."
     ]
    },
    {
     "cell_type": "code",
     "collapsed": false,
     "input": [
      "A = np.mat(\"1, 2; 3, 4\")\n",
      "\n",
      "linalg.det(A)"
     ],
     "language": "python",
     "metadata": {},
     "outputs": []
    },
    {
     "cell_type": "raw",
     "metadata": {},
     "source": [
      "In physics the eigenvalues and vectors of a matrix are usually very important."
     ]
    },
    {
     "cell_type": "code",
     "collapsed": false,
     "input": [
      "linalg.eig(A)"
     ],
     "language": "python",
     "metadata": {},
     "outputs": []
    },
    {
     "cell_type": "markdown",
     "metadata": {},
     "source": [
      "This function returns a tuple of length two. The first item is an array containing the eigenvalues. The second item is a matrix containing the normalized eigenvectors. The first column of the matrix, contains the eigenvector corresponding to the first eigenvalue. The second column of the matrix, contains the eigenvector corresponding to the second eigenvalue. "
     ]
    },
    {
     "cell_type": "markdown",
     "metadata": {},
     "source": [
      "If you just want the eigen values, you can use"
     ]
    },
    {
     "cell_type": "code",
     "collapsed": false,
     "input": [
      "linalg.eigvals(A)"
     ],
     "language": "python",
     "metadata": {},
     "outputs": []
    },
    {
     "cell_type": "markdown",
     "metadata": {},
     "source": [
      "For a complete list of routines contained in numpy.linalg see http://docs.scipy.org/doc/numpy/reference/routines.linalg.html."
     ]
    },
    {
     "cell_type": "markdown",
     "metadata": {},
     "source": [
      "<h3>Plotting</h3>"
     ]
    },
    {
     "cell_type": "markdown",
     "metadata": {},
     "source": [
      "When it comes to plotting in Python, nearly everyone uses Matplotlib so we will too. Before we begin, I want to let you know that this is a very, very brief introduction to Matplotlib that will enable you to make plots and change a few things about them."
     ]
    },
    {
     "cell_type": "markdown",
     "metadata": {},
     "source": [
      "Matplotlib has several different interfaces for making plots and figures. We will focus on the pylab interface, which is designed to resemble plotting in Matlab. First we need to import the library and name it something easier to type."
     ]
    },
    {
     "cell_type": "code",
     "collapsed": false,
     "input": [
      "import matplotlib.pyplot as plt # plt is the standard short-hand for pyplot"
     ],
     "language": "python",
     "metadata": {},
     "outputs": []
    },
    {
     "cell_type": "markdown",
     "metadata": {},
     "source": [
      "Now we need some data to plot."
     ]
    },
    {
     "cell_type": "code",
     "collapsed": false,
     "input": [
      "x = np.arange(0, 2, 0.1)\n",
      "\n",
      "y = x**2"
     ],
     "language": "python",
     "metadata": {},
     "outputs": []
    },
    {
     "cell_type": "markdown",
     "metadata": {},
     "source": [
      "And we tell pyplot to plot our data."
     ]
    },
    {
     "cell_type": "code",
     "collapsed": false,
     "input": [
      "plt.plot(x, y)"
     ],
     "language": "python",
     "metadata": {},
     "outputs": []
    },
    {
     "cell_type": "markdown",
     "metadata": {},
     "source": [
      "You might be wondering why you can't see a plot. This is because <code>plot</code> just creates the plot. Pyplot doesn't show the plot unless we tell it to."
     ]
    },
    {
     "cell_type": "code",
     "collapsed": false,
     "input": [
      "plt.show()"
     ],
     "language": "python",
     "metadata": {},
     "outputs": []
    },
    {
     "cell_type": "markdown",
     "metadata": {},
     "source": [
      "The command <code>show()</code> should have opened a new window containing the plot. This is the interactive window and allows you to view your plot. You can change the size by making the window bigger or smaller. You can pan, zoom, change the size of the axes, reset the view, and save a copy of your plot using the icons at the bottom of the window. If you notice there is an asterisk next to <code>plt.show()</code> which means that the command is still running. It will continue running until you close the window. Rather than looking at a bunch of windows, we can use some IPython magic to view plots inside the notebook."
     ]
    },
    {
     "cell_type": "code",
     "collapsed": false,
     "input": [
      "%matplotlib inline"
     ],
     "language": "python",
     "metadata": {},
     "outputs": []
    },
    {
     "cell_type": "markdown",
     "metadata": {},
     "source": [
      "Once you have run this command, all future plots will automatically be included in the notebook. This is really neat. Just remember that many plots can make your notebook file very large. Also, using this command, the notebook automatically creates a new figure for each cell. This is different from how Matplotlib works outside the notebook, but we will go over that later."
     ]
    },
    {
     "cell_type": "code",
     "collapsed": false,
     "input": [
      "x = np.arange(-1.5, 1.5, 0.1)\n",
      "\n",
      "y1 = np.exp(x)\n",
      "\n",
      "y2 = np.cos(x)\n",
      "\n",
      "plt.plot(x, y)\n",
      "plt.plot(x, y2)"
     ],
     "language": "python",
     "metadata": {},
     "outputs": []
    },
    {
     "cell_type": "markdown",
     "metadata": {},
     "source": [
      "Making a plot in Python is that easy. What can be hard, is getting your plot to look the way you want it too."
     ]
    },
    {
     "cell_type": "markdown",
     "metadata": {},
     "source": [
      "We can change the color, thickness, and style of the lines."
     ]
    },
    {
     "cell_type": "code",
     "collapsed": false,
     "input": [
      "plt.plot(x, y, color='red', linewidth=2, linestyle=':')\n",
      "plt.plot(x, y2, color='black', linewidth=0.5, linestyle='--')"
     ],
     "language": "python",
     "metadata": {},
     "outputs": []
    },
    {
     "cell_type": "markdown",
     "metadata": {},
     "source": [
      "We can add markers to the data points."
     ]
    },
    {
     "cell_type": "code",
     "collapsed": false,
     "input": [
      "plt.plot(x, y, marker='s', markersize=12, markeredgecolor='yellow', markeredgewidth=2)\n",
      "plt.plot(x, y2, marker='*', markersize=18, markerfacecolor='magenta')"
     ],
     "language": "python",
     "metadata": {},
     "outputs": []
    },
    {
     "cell_type": "markdown",
     "metadata": {},
     "source": [
      "We can add some information to the plot using a title and axis labels"
     ]
    },
    {
     "cell_type": "code",
     "collapsed": false,
     "input": [
      "plt.plot(x, y)\n",
      "plt.plot(x, y2)\n",
      "plt.xlabel('x')\n",
      "plt.ylabel('y')\n",
      "plt.title('Plot of Two Functions')"
     ],
     "language": "python",
     "metadata": {},
     "outputs": []
    },
    {
     "cell_type": "markdown",
     "metadata": {},
     "source": [
      "We can also add a legend."
     ]
    },
    {
     "cell_type": "code",
     "collapsed": false,
     "input": [
      "plt.plot(x, y, label='Exponential')\n",
      "plt.plot(x, y2, label='Cosine')\n",
      "plt.xlabel('x', fontsize=30)\n",
      "plt.ylabel('y')\n",
      "plt.legend(loc=2, fontsize=16, fancybox=True, shadow=True)\n",
      "plt.title('Plot of Two Functions')"
     ],
     "language": "python",
     "metadata": {},
     "outputs": []
    },
    {
     "cell_type": "markdown",
     "metadata": {},
     "source": [
      "There are two ways to add arbitrary text to a plot. The first way uses the axes, where the first argument is the x coordinate and the second is the y coordinate of the text. For a complete list of properties see http://matplotlib.org/users/text_props.html."
     ]
    },
    {
     "cell_type": "code",
     "collapsed": false,
     "input": [
      "plt.plot(x, y, label='Exponential')\n",
      "plt.plot(x, y2, label='Cosine')\n",
      "plt.text(0, 2, 'Hello World!', horizontalalignment='right', backgroundcolor='cyan')"
     ],
     "language": "python",
     "metadata": {},
     "outputs": []
    },
    {
     "cell_type": "markdown",
     "metadata": {},
     "source": [
      "We can also use the figure and specify the position using relative coordinates: (0,0) is the lower left corner, (0,5,0,5) is the center, and (1,1) is the upper right corner of the figure."
     ]
    },
    {
     "cell_type": "code",
     "collapsed": false,
     "input": [
      "plt.plot(x, y, label='Exponential')\n",
      "plt.plot(x, y2, label='Cosine')\n",
      "plt.figtext(0.25, 0.75, 'Hello World!', rotation=45)"
     ],
     "language": "python",
     "metadata": {},
     "outputs": []
    },
    {
     "cell_type": "markdown",
     "metadata": {},
     "source": [
      "There are times when we want to display a value calcualted by your code on the plot. We can do this using the string format function. For more examples on formating strings see https://docs.python.org/2/library/string.html#format-examples."
     ]
    },
    {
     "cell_type": "code",
     "collapsed": false,
     "input": [
      "words = 10\n",
      "\n",
      "string = 'There are {0:0.3f} words in the file.'.format(words)\n",
      "plt.plot(x, y, label='Exponential')\n",
      "plt.plot(x, y2, label='Cosine')\n",
      "plt.figtext(0.25, 0.75, string)\n"
     ],
     "language": "python",
     "metadata": {},
     "outputs": []
    },
    {
     "cell_type": "markdown",
     "metadata": {},
     "source": [
      "If we want we can manually specify the axes limits."
     ]
    },
    {
     "cell_type": "code",
     "collapsed": false,
     "input": [
      "plt.plot(x, y, label='Exponential')\n",
      "plt.plot(x, y2, label='Cosine')\n",
      "plt.xlim(0, 1)\n",
      "plt.ylim(0.5, 2)"
     ],
     "language": "python",
     "metadata": {},
     "outputs": []
    },
    {
     "cell_type": "markdown",
     "metadata": {},
     "source": [
      "We can manually specify the ticks and tick labels"
     ]
    },
    {
     "cell_type": "code",
     "collapsed": false,
     "input": [
      "plt.plot(x, y, label='Exponential')\n",
      "plt.plot(x, y2, label='Cosine')\n",
      "plt.xlim(0, 1)\n",
      "plt.xticks([0, 0.3333, 0.6666, 0.9999], ['0', '1/3', '2/3', '3/3']) "
     ],
     "language": "python",
     "metadata": {},
     "outputs": []
    },
    {
     "cell_type": "markdown",
     "metadata": {},
     "source": [
      "We can also get rid of the axes."
     ]
    },
    {
     "cell_type": "code",
     "collapsed": false,
     "input": [
      "plt.plot(x, y, label='Exponential')\n",
      "plt.plot(x, y2, label='Cosine')\n",
      "plt.axis('off')"
     ],
     "language": "python",
     "metadata": {},
     "outputs": []
    },
    {
     "cell_type": "markdown",
     "metadata": {},
     "source": [
      "Or we can change an axis scale to logarithmic."
     ]
    },
    {
     "cell_type": "code",
     "collapsed": false,
     "input": [
      "plt.plot(x, y, label='Exponential')\n",
      "plt.plot(x, y2, label='Cosine')\n",
      "plt.yscale('log')"
     ],
     "language": "python",
     "metadata": {},
     "outputs": []
    },
    {
     "cell_type": "markdown",
     "metadata": {},
     "source": [
      "Suppose we want to use our figure in a paper, or print it off to turn in with our homework."
     ]
    },
    {
     "cell_type": "code",
     "collapsed": false,
     "input": [
      "plt.plot(x, y, label='Exponential')\n",
      "plt.plot(x, y2, label='Cosine')\n",
      "plt.yscale('log')\n",
      "\n",
      "plt.savefig('example_figure.pdf')"
     ],
     "language": "python",
     "metadata": {},
     "outputs": []
    },
    {
     "cell_type": "markdown",
     "metadata": {},
     "source": [
      "This command saves the figure in the current working director with the name 'example_figure.pdf'. Check the directory and see that it is there. Here is one case where IPython Notebooks are not very helpful. We have to put all the plotting commands in a single cell. Run the next cell and look at the saved plot."
     ]
    },
    {
     "cell_type": "code",
     "collapsed": false,
     "input": [
      "plt.savefig('example_figure.pdf')"
     ],
     "language": "python",
     "metadata": {},
     "outputs": []
    },
    {
     "cell_type": "markdown",
     "metadata": {},
     "source": [
      "It should be blank. This is because we didn't plot anything in that cell, so the plot is empty. If you were to call <code>plt.savefig()</code> from a library, a script, or from the command line, it would save the current plot instance."
     ]
    },
    {
     "cell_type": "markdown",
     "metadata": {},
     "source": [
      "A little bit more about the command. The first argument is the name of the file where you want to save your figure. This is given as a string with the file extension. Matplotlib will automatically interpret the type of image to create based on the extension. Typical extensions are '.pdf', '.png', '.jpg', and 'svg'. For other keyword arguments see http://matplotlib.org/api/pyplot_api.html#matplotlib.pyplot.savefig."
     ]
    },
    {
     "cell_type": "markdown",
     "metadata": {},
     "source": [
      "Now that is the very, very rough overview of Matplotlib. We haven't even scratched the surface of what it can do but you should be able to make plots that will let you visualize data. If you would like a more detailed tutorial see http://www.labri.fr/perso/nrougier/teaching/matplotlib."
     ]
    },
    {
     "cell_type": "markdown",
     "metadata": {},
     "source": [
      "<h4>Under the Hood</h4>"
     ]
    },
    {
     "cell_type": "markdown",
     "metadata": {},
     "source": [
      "Pyplot offers a very simple interface, but pyplot does a lot of things automatically for you. Understanding what is going on under the hood is important for advanced plot manipulation."
     ]
    },
    {
     "cell_type": "markdown",
     "metadata": {},
     "source": [
      "The first thing pyplot does for you is create a figure. A figure is an abstract space where you can view data, shapes, or images. You can manually create a figure using <code>plt.figure()</code>, which can take several keyword arguments."
     ]
    },
    {
     "cell_type": "code",
     "collapsed": false,
     "input": [
      "fig = plt.figure(figsize=(4,4), dpi=100) # Creates a 4in by 4in picture with a resolution of 100dpi."
     ],
     "language": "python",
     "metadata": {},
     "outputs": []
    },
    {
     "cell_type": "markdown",
     "metadata": {},
     "source": [
      "We can use this command to create multiple figures in the same Python script."
     ]
    },
    {
     "cell_type": "code",
     "collapsed": false,
     "input": [
      "fig_1 = plt.figure(figsize=(4,4), dpi=100)\n",
      "fig_2 = plt.figure(figsize=(4,4), dpi=100)\n",
      "fig_3 = plt.figure(figsize=(4,4), dpi=100)"
     ],
     "language": "python",
     "metadata": {},
     "outputs": []
    },
    {
     "cell_type": "markdown",
     "metadata": {},
     "source": [
      "In order to plot anything, we need a set of axes. We do this by adding axes to our figure."
     ]
    },
    {
     "cell_type": "code",
     "collapsed": false,
     "input": [
      "ax_1 = fig_1.add_axes([0.1, 0.1, 0.8, 0.8])"
     ],
     "language": "python",
     "metadata": {},
     "outputs": []
    },
    {
     "cell_type": "markdown",
     "metadata": {},
     "source": [
      "The agument list specifies where we want our axes using fractional coordinates [left, bottom, width, height]. Remember that in fractional coordinates 0,0 is the lower left corner and 1,1 is the upper right. This is a rectangle specifying the axes. Remember to leave room for tick and axis labels because they are outside the rectangle. There are many other objects  For a complete list of options see http://matplotlib.org/api/figure_api.html#matplotlib.figure.Figure.add_axes."
     ]
    },
    {
     "cell_type": "markdown",
     "metadata": {},
     "source": [
      "So we created a figure and then added an axis to that figure. Now we can add a plot to the axes."
     ]
    },
    {
     "cell_type": "code",
     "collapsed": false,
     "input": [
      "x = np.arange(-1.5, 1.5, 0.1)\n",
      "\n",
      "y1 = np.exp(x)\n",
      "\n",
      "ax_1.plot(x, y1)"
     ],
     "language": "python",
     "metadata": {},
     "outputs": []
    },
    {
     "cell_type": "markdown",
     "metadata": {},
     "source": [
      "If we want to edit the ticks, or added axis labels, we need to use the set commands."
     ]
    },
    {
     "cell_type": "code",
     "collapsed": false,
     "input": [
      "ax_1.set_xlabel('x')\n",
      "ax_1.set_ylabel('y')\n",
      "ax_1.set_title('Exponential')\n",
      "ax_1.set_xticks([0, 0.3333, 0.6666, 0.9999])\n",
      "ax_1.set_xticklabels(['0', '1/3', '2/3', '3/3'])"
     ],
     "language": "python",
     "metadata": {},
     "outputs": []
    },
    {
     "cell_type": "markdown",
     "metadata": {},
     "source": [
      "You can also use the get commands if you want to retreive some values from a plot."
     ]
    },
    {
     "cell_type": "code",
     "collapsed": false,
     "input": [
      "print ax_1.get_xlabel()"
     ],
     "language": "python",
     "metadata": {},
     "outputs": []
    },
    {
     "cell_type": "markdown",
     "metadata": {},
     "source": [
      "We can also save our figure."
     ]
    },
    {
     "cell_type": "code",
     "collapsed": false,
     "input": [
      "fig_1.savefig('example_figure.pdf')"
     ],
     "language": "python",
     "metadata": {},
     "outputs": []
    },
    {
     "cell_type": "markdown",
     "metadata": {},
     "source": [
      "Using this object-oriented interface allows you to control almost anything about a plot."
     ]
    },
    {
     "cell_type": "markdown",
     "metadata": {},
     "source": [
      "<h2>Exercises</h2>"
     ]
    },
    {
     "cell_type": "markdown",
     "metadata": {},
     "source": [
      "<h3>Exercise 1</h3>"
     ]
    },
    {
     "cell_type": "markdown",
     "metadata": {},
     "source": [
      "Electrons, protons, and neutrons are fermions with spin $s=\\frac{1}{2}$. The spin can be either up or down. We typically represent the spin of these particles as a two-element column matrix. The two eigenstates of spin are spin up and spin down.\n",
      "\n",
      "$$\\chi_{+} = \\left[ \\begin{array}{c}\n",
      "1 \\\\\n",
      "0 \\end{array}\\right]\\qquad(\\text{spin up})$$\n",
      "\n",
      "$$\\chi_{-} = \\left[ \\begin{array}{c}\n",
      "0 \\\\\n",
      "1 \\end{array}\\right]\\qquad(\\text{spin down})$$"
     ]
    },
    {
     "cell_type": "markdown",
     "metadata": {},
     "source": [
      "Any arbitrary spin can be written as a linear combination of spin up and spin down.\n",
      "\n",
      "$$ \\chi = \\alpha \\chi_{+} + \\beta \\chi_{-} = \\left[ \\begin{array}{c}\n",
      "\\alpha \\\\\n",
      "\\beta \\end{array}\\right] \\text{   with   } |\\alpha|^2+|\\beta|^2=1$$"
     ]
    },
    {
     "cell_type": "markdown",
     "metadata": {},
     "source": [
      "In quantum mechanics, the expectation values of an operator tells us the \"average\" value we would observe if we measured that quantity for many similar systems. We can calculate the expectation value of any operator $\\mathbf{A}$ using matrix multiplication.\n",
      "\n",
      "$$\\langle A \\rangle = \\chi^{\\dagger} \\mathbf{A} \\chi$$\n",
      "\n",
      "Where $^\\dagger$ is the hermitian conjugate of the vector $\\chi$."
     ]
    },
    {
     "cell_type": "markdown",
     "metadata": {},
     "source": [
      "The goal of this exercise is to write <b>four</b> functions that calculate the expectation values of the following operators. The functions should take an non-normalized two-element list or array and return a float. The two elements in the list or array may be complex. Your function should normalize the list or array before calcuating the expectation values.\n",
      "\n",
      "$$\\mathbf{S}_x = \\left[ \\begin{array}{c c}\n",
      "0 & \\frac{1}{2} \\\\\n",
      "\\frac{1}{2} & 0\\end{array}\\right], \\qquad\n",
      "\\mathbf{S}_y = \\left[ \\begin{array}{c c}\n",
      "0 & \\frac{-j}{2} \\\\\n",
      "\\frac{j}{2} & 0\\end{array}\\right], \\qquad\n",
      "\\mathbf{S}_z = \\left[ \\begin{array}{c c}\n",
      "\\frac{1}{2} & 0  \\\\\n",
      "0 & \\frac{-1}{2}\\end{array}\\right], \\qquad\n",
      "\\mathbf{S}^2 = \\mathbf{S}_x^\\dagger\\mathbf{S}_x + \\mathbf{S}_y^\\dagger\\mathbf{S}_y + \\mathbf{S}_z^\\dagger\\mathbf{S}_z $$"
     ]
    },
    {
     "cell_type": "markdown",
     "metadata": {},
     "source": [
      "Note: These operators are in units chosen so that $\\hbar=1$."
     ]
    },
    {
     "cell_type": "markdown",
     "metadata": {},
     "source": [
      "<h3>Exercise 2</h3>"
     ]
    },
    {
     "cell_type": "markdown",
     "metadata": {},
     "source": [
      "Chaos theory is the study of dynamical systems that are highly dependent on initial conditions. In these systems, small differences in the starting state, such as numerical rounding, make large changes in the future behavior of the system. Chaotic behavior can be found in systems such as the turbulence, cryptography, population growth, and stock markets. This amplification of small differences makes long term prediction impossible. This can happen even though the system evolves in a deterministic manner (i.e. there is absolutely no randomness). This often happens when non-linearities are introduced into a system."
     ]
    },
    {
     "cell_type": "markdown",
     "metadata": {},
     "source": [
      "In physics, the behavior of continuous systems (continuous in time and space) are described using differential equations. These equations describe how one quantity varies with another. The differential equation for an undamped mass on a spring is\n",
      "\n",
      "$$\\frac{\\mathrm{d}^2 x}{\\mathrm{d} t^2} = -\\frac{k}{m}x$$"
     ]
    },
    {
     "cell_type": "markdown",
     "metadata": {},
     "source": [
      "We can rewrite this second order equation as a system of linear first order equations.\n",
      "\n",
      "$$\\frac{\\mathrm{d} x}{\\mathrm{d} t} = v$$\n",
      "\n",
      "$$\\frac{\\mathrm{d}v}{\\mathrm{d} t} = -\\frac{k}{m}x$$"
     ]
    },
    {
     "cell_type": "markdown",
     "metadata": {},
     "source": [
      "We can write these equations in matrix form\n",
      "\n",
      "$$ \\frac{\\mathrm{d}}{\\mathrm{d}t}  \\left[\\begin{array}{c}x \\\\ v\\end{array}\\right] =\n",
      "\\left[\\begin{array}{c c}\n",
      "0 & 1\\\\\n",
      "-\\frac{k}{m} &0 \\end{array}\\right]\n",
      "\\left[\\begin{array}{c}x \\\\ v\\end{array}\\right]$$"
     ]
    },
    {
     "cell_type": "markdown",
     "metadata": {},
     "source": [
      "This matrix, called the Jacobean matrix, defines the behavior of the system. Linear systems can always be written in this form. For non-linear systems, you can approximate the system as linear in certain regions and use this matrix form in those regions. The eigenvalues of the Jacobian are called the lyapunov exponents of the system and can help us determine whether or not a system is chaotic."
     ]
    },
    {
     "cell_type": "markdown",
     "metadata": {},
     "source": [
      "Using a linear transformation, we can rewrite the matrix differential equation in the eigenbasis of the system.\n",
      "$$ \\frac{\\mathrm{d}}{\\mathrm{d}t}  \\left[\\begin{array}{c}e_1 \\\\ e_2 \\\\ e_3 \\end{array}\\right] =\n",
      "\\left[\\begin{array}{c c c}\n",
      "\\lambda_1 & 0 &0\\\\\n",
      "0 & \\lambda_2 &0\\\\\n",
      "0 & 0 & \\lambda_3\\end{array}\\right]\n",
      "\\left[\\begin{array}{c}e_1 \\\\ e_2 \\\\ e_3 \\end{array}\\right]$$\n",
      "\n",
      "where $\\lambda_1, \\lambda_2, \\lambda_2$ are the eigenvalues of the Jacobean matrix."
     ]
    },
    {
     "cell_type": "markdown",
     "metadata": {},
     "source": [
      "In this basis, the evolution of the system is simple. The time evolution of the coordinates are just constants times the coordinates. If $\\lambda_i$ is less than 1, that coordinate direction will shrink in time. If $\\lambda_i$ is greater than 1, that coordinate direction will grow in time. If $\\lambda_i$ is exactly 1, that coordinate will neither grow or shrink, but will remain indefinitely."
     ]
    },
    {
     "cell_type": "markdown",
     "metadata": {},
     "source": [
      "For a system to exhibit chaos, small initial differences must grow. This means that at least one eigenvalues must be greater than 1. For the system to not completely blow up, one of the eigenvalues must be less than 1. For the system to continue to evolve over time, one of the eigenvalues must be exactly 1. This means that only continuous systems with three or more dimensions may be chaotic and one of the lyapunov exponents must be less than 1, one must be exactly 1, and one must be greater than 1."
     ]
    },
    {
     "cell_type": "markdown",
     "metadata": {},
     "source": [
      "For this exercise you need to write a function which takes a Jacobian matrix as either a string, a list of lists, an array of arrays, or a matrix. This function should calculate the eigenvalues of the matrix. Using the eigenvalues, the function should determine whether the matrix is chaotic or not. The function should return a bool indicating whether or not the matrix is chaotic. "
     ]
    },
    {
     "cell_type": "markdown",
     "metadata": {},
     "source": [
      "<h3>Exercise 3</h3>"
     ]
    },
    {
     "cell_type": "markdown",
     "metadata": {},
     "source": [
      "The goal of this exercise is to reproduce the following figure as accurately as you can. Please don't spend hours and hours and hours on this. Get it the best that you can. Include the plot as \"exercise_3.pdf\" in the zipped folder along with the rest of you submission."
     ]
    },
    {
     "cell_type": "code",
     "collapsed": false,
     "input": [
      "from IPython.display import Image\n",
      "\n",
      "Image('sample_plot.png')"
     ],
     "language": "python",
     "metadata": {},
     "outputs": []
    },
    {
     "cell_type": "markdown",
     "metadata": {},
     "source": [
      "The following functions might be useful.\n",
      "\n",
      "$$ \\sin\\left(  2 \\pi x \\right) \\qquad \\qquad \n",
      "e^{-x} \\qquad\\qquad \n",
      "e^{-x} \\sin\\left( 2 \\pi x \\right) \\qquad\\qquad \n",
      "\\ln\\left(x+1\\right)$$"
     ]
    },
    {
     "cell_type": "code",
     "collapsed": false,
     "input": [],
     "language": "python",
     "metadata": {},
     "outputs": []
    }
   ],
   "metadata": {}
  }
 ]
}